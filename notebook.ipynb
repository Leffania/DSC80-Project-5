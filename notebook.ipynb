{
 "cells": [
  {
   "cell_type": "markdown",
   "metadata": {},
   "source": [
    "# Analysis of NYPD Civilian Complaints"
   ]
  },
  {
   "cell_type": "markdown",
   "metadata": {},
   "source": [
    "## Summary of Findings"
   ]
  },
  {
   "cell_type": "markdown",
   "metadata": {},
   "source": [
    "### Missingness of Complainant Gender\n",
    "\n",
    "#### Introduction\n",
    "The data set to examine is a compilation of info about civilian complaints from 1985 to 2020 including info from officer age, gender, ethnicity to complainant age, gender, ethnicity, time the complaint was received and open, specific allegations, and whether or not the complaint was successful.\n",
    "\n",
    "This study will examine the missingness of complainant gender values and their dependency on other values like officer ethnicity and officer gender. Then, investigate if complaints from women are more successful than men for the same allegations.\n",
    "\n",
    "#### Cleaning and EDA\n",
    "It was observed that some missing values were encoded with \"Unknown\", so they were replaced with NaNs to avoid counting those entries when aggregating the data and to make the data more tidy in having a consistent representation for missing values. Afterwards, there were negative values seen for complainant ages, and since one can reason that no negative age value can exist, these were replaced with NaNs as well. In order to facilitate easier data manipulation when investigating the question of whether or not complaints from women are more successful than men for the same allegations, a \"substantiated\" column was created indicating \"True\" for if the outcome of the complaint was successful and \"False\" otherwise. This is because of the fact that the board disposition includes whether or not the complaint was substantiated *and* an additional outcome added if the complaint was substantiated.\n",
    "\n",
    "Then, the percentages of complainant gender were examined. Through computing the proportions of the complainant genders, it was found that 82.50% of the complainants were male, while 17.22% of them were female. Because of these disproportionate counts, further analysis on the complainant gender may be inaccurate because it would mean the data for a single female individual affects the female aggregate more than a single male individual for the male aggregate.\n",
    "\n",
    "After, the distribution of complainant gender dependent on officer gender was examined. According to the conditional distribution, 60.88% of the people who complained to a female officer were male whereas 38.75% were female. On the other hand, 83.75% of the people who complained to a male officer were male while 15.97% were female. These results reveal that it is most likely for a complainant to be male regardless of the officer's gender, and this bias towards male complainants may affect further analysis of complainant gender since a potential association between complainant gender and officer gender can confound analysis.\n",
    "\n",
    "#### Assessment of Missingness\n",
    "First, missingness of complainant gender on officer ethnicity was examined through a pivot table and a bar graph of relative frequencies. According to the displays, the amount of missingness for complainant gender appears relatively equal across officer ethnicities. The same conclusion is reached for complainant gender dependency on officer gender. \n",
    "\n",
    "However, to further quantitatively investigate the dependencies and verify these results, permutation tests were performed in which it was assumed that the missingness of complainant gender across the categories should be equal. Using this assumption, the total consecutive difference was calculated for the observed data and for data in which the complainant gender column is shuffled in order to find a p-value to quantify the dependency of the complainant gender missingness on officer ethnicity and on officer gender. For each permutation test, a significance level of 0.01 was fixed, and 1,000 simulations would be run. The null hypothesis to assume under each is that the missingness of the complainant gender column is equal across the categories of officer ethnicity or officer gender. Thus, it follows that the alternative hypothesis is that the missingness of complainant gender is dependent on the column being examined. \n",
    "\n",
    "Consequently, for testing complainant gender missingness dependent on officer ethnicity, a p-value of 0.068 was found, and since it is greater than the significance level, it means we cannot reject the null hypothesis, implying that the missingness of the complainant gender is not dependent on officer ethnicity. However, the p-value of 0.068 is still relatively low, as it reveals that the probability of observing a test statistic as extreme as the observed value under the null hypothesis is 6.8%, so there is still reason to believe that the missingness of complainant gender is very loosely associated with officer ethnicity.\n",
    "\n",
    "As for investigating complainant gender missingness dependency on officer gender, a p-value of 0.0 was found, and since it is less than the significance level, it means we can reject the null hypothesis, implying that the missingness of the complainant gender is dependent on officer gender. Because the p-value was 0.0, it means that there is a 0.00% chance of seeing a value as extreme as the observed value under the null hypothesis. With this, one can be substantially confident that the missingness of complainant gender is dependent on officer gender.\n",
    "\n",
    "#### Hypothesis Test\n",
    "Null hypothesis: complaints of women are not any more successful than men for the same allegations.\n",
    "\n",
    "Alternative hypothesis: complaints of women are more successful than men for the same allegations.\n",
    "\n",
    "Significance level: 0.01\n",
    "\n",
    "Test statistic: total difference of women complaint substantiation rates subtracted by men complaint substantiation rates\n",
    "\n",
    "The question in the investigation is whether or not complaints of women are more successful than men for the same allegations, so the null hypothesis would assume the opposite, meaning that complaint substantiation for women is relatively less than or equal to complaint substantiation for men within the same allegations. Naturally, the alternative hypothesis would be the finding stated in the question: complaints of women are more successful than men for the same allegations. A significance level of 0.01 was chosen to be conservative in making conclusions through minimizing the probability of rejecting the null hypothesis when it is true. Since the rates of complaint substantiation are partitioned into categories: allegations, the distribution of complaint success rates is categorical. In order to compare the differences between the male and female complaint success rates, the success rates for males were subtracted from the success rates for females within each allegation type, then summed up. It is alike finding the Total Variation Distance, but since the alternative hypothesis implies that extreme values would occur when the total female substantiation rates are greater than the total male substantiation rates, it follows that the test statistic should be computed by female substantiation rates - male substantiation rates. Positive values indicate that overall, complaints by women are more successful than men for the same allegations. Values close to or equal to 0 indicate that overall, complaints by women are about equal in substantion rates with those of men. Negative values would indicate that overall, complaints by men are more successful than women for the same allegations. Precisely for these reasons, an absolute value in finding the difference between substantion rates was left out. There was only one extreme of the random distribution of the test statistic: positively high values, so the test only focused on one tail of the distribution, towards the positive end.\n",
    "\n",
    "The resulting p-value was 1.0, meaning the probability of observing a value at least as extreme (in the context of the test) was 100%. As a result of this and the fact that 1.0 is greater than the significance level, one fails to reject the null hypothesis with great confidence, meaning that complaints by women are not more successful than complaints by men for the same allegations."
   ]
  },
  {
   "cell_type": "markdown",
   "metadata": {},
   "source": [
    "### Officer Ethnicity Prediction\n",
    "\n",
    "#### Introduction\n",
    "This data investigation creates a model to predict the ethnicity of an officer, given complaint data. Since the target feature is categorical, the problem here is classification. The evaluation metric chosen is prediction accuracy since it represents the performance of the model as the proportion of correctly predicted classifications.\n",
    "\n",
    "#### Baseline Model\n",
    "The baseline model has 21 total features: 8 quantitative, 0 ordinal, and 8 nominal. \n",
    "\n",
    "The resulting prediction accuracy for the training set was 1.0 while the test set gave a score of 0.967. Thus, training set yielded a perfect score with the test set giving a close to perfect score. At the same time, it could be a bad sign that the training score was 1.0 since it seems suspiciously high as a possible indication of overfitting, though the test set score is not drastically lower.\n",
    "\n",
    "#### Final Model\n",
    "Two new types of engineered features were added, totalling to four new features (since there are two year and two age features): age categorized into young and old and year binarized with a threshold of 1993. \n",
    "\n",
    "The age feature engineering should improve the model because young and old people may treat the same person differently, and if both officer and complainant ages are included, there could be a possible tendency for older people to file complaints about younger people. The decision to binarize years with a threshold of 1993 was chosen specifically because it marks the beginning of Bill Clinton's presidency in which numerous policy changes were made to the law enforcement and criminal justice systems. Hence, 1993 could be an important year for shifts in how (potential) law offenders are treated.\n",
    "\n",
    "The model chosen was a decision tree classifier with best parameters `max_depth = None`, `min_samples_leaf = 2`, and `min_samples_split = 5` as opted for by a grid search CV test.\n",
    "\n",
    "#### Fairness Evaluation\n",
    "To check fairness of the model, the \"interesting subset\" was constructed off of `complainant_ethnicity` to explore whether the model is fairer for White or non-White complainants. The subset was binarized into complainants who were White and those who were not White. The chosen parity measure was accuracy rate.\n",
    "- Null Hypothesis: the model is fair; the accuracy rate for the White complainant subset is not higher than that of the non-White complainant subset.\n",
    "- Alternative Hypothesis: the model is unfair; the accuracy rate for the White complainant subset is higher than that of the non-White complainant subset.\n",
    "\n",
    "The difference between the accuracy rate for White complainants and non-White complainants was used as the test statistic. Since it is White complainant accuracy subtracted by non-White complainant accuracy, high values are considered extreme because it would indicate that White complainaint accuracy is higher whereas values close to 0 and negative would point towards the null hypothesis.\n",
    "\n",
    "A significance level of 0.01 was fixed, and 1000 simulations were run.\n",
    "\n",
    "As a result of the permutation test, a p-value of 0.972 was obtained, and since 0.972 is greater than the significance level of 0.01, one fails to reject the null hypothesis with convincing evidence that the model does not predict more accurately for White complainants than for non-White complainants."
   ]
  },
  {
   "cell_type": "markdown",
   "metadata": {},
   "source": [
    "*Note that random seeds were used when initializing the decision tree classifier and also for shuffling data in random simulations to ensure reproducibility of results.*"
   ]
  },
  {
   "cell_type": "markdown",
   "metadata": {},
   "source": [
    "## Code"
   ]
  },
  {
   "cell_type": "markdown",
   "metadata": {},
   "source": [
    "### Missingness of Complainant Gender"
   ]
  },
  {
   "cell_type": "code",
   "execution_count": 1,
   "metadata": {
    "ExecuteTime": {
     "end_time": "2019-10-31T23:36:28.652554Z",
     "start_time": "2019-10-31T23:36:27.180520Z"
    }
   },
   "outputs": [],
   "source": [
    "import matplotlib.pyplot as plt\n",
    "import numpy as np\n",
    "import os\n",
    "import pandas as pd\n",
    "%matplotlib inline\n",
    "%config InlineBackend.figure_format = 'retina'  # Higher resolution figures"
   ]
  },
  {
   "cell_type": "markdown",
   "metadata": {},
   "source": [
    "#### Cleaning and EDA"
   ]
  },
  {
   "cell_type": "code",
   "execution_count": 2,
   "metadata": {
    "ExecuteTime": {
     "end_time": "2019-10-31T23:36:28.657068Z",
     "start_time": "2019-10-31T23:36:28.654650Z"
    }
   },
   "outputs": [
    {
     "data": {
      "text/html": [
       "<div>\n",
       "<style scoped>\n",
       "    .dataframe tbody tr th:only-of-type {\n",
       "        vertical-align: middle;\n",
       "    }\n",
       "\n",
       "    .dataframe tbody tr th {\n",
       "        vertical-align: top;\n",
       "    }\n",
       "\n",
       "    .dataframe thead th {\n",
       "        text-align: right;\n",
       "    }\n",
       "</style>\n",
       "<table border=\"1\" class=\"dataframe\">\n",
       "  <thead>\n",
       "    <tr style=\"text-align: right;\">\n",
       "      <th></th>\n",
       "      <th>unique_mos_id</th>\n",
       "      <th>first_name</th>\n",
       "      <th>last_name</th>\n",
       "      <th>command_now</th>\n",
       "      <th>shield_no</th>\n",
       "      <th>complaint_id</th>\n",
       "      <th>month_received</th>\n",
       "      <th>year_received</th>\n",
       "      <th>month_closed</th>\n",
       "      <th>year_closed</th>\n",
       "      <th>...</th>\n",
       "      <th>mos_age_incident</th>\n",
       "      <th>complainant_ethnicity</th>\n",
       "      <th>complainant_gender</th>\n",
       "      <th>complainant_age_incident</th>\n",
       "      <th>fado_type</th>\n",
       "      <th>allegation</th>\n",
       "      <th>precinct</th>\n",
       "      <th>contact_reason</th>\n",
       "      <th>outcome_description</th>\n",
       "      <th>board_disposition</th>\n",
       "    </tr>\n",
       "  </thead>\n",
       "  <tbody>\n",
       "    <tr>\n",
       "      <th>0</th>\n",
       "      <td>10004</td>\n",
       "      <td>Jonathan</td>\n",
       "      <td>Ruiz</td>\n",
       "      <td>078 PCT</td>\n",
       "      <td>8409</td>\n",
       "      <td>42835</td>\n",
       "      <td>7</td>\n",
       "      <td>2019</td>\n",
       "      <td>5</td>\n",
       "      <td>2020</td>\n",
       "      <td>...</td>\n",
       "      <td>32</td>\n",
       "      <td>Black</td>\n",
       "      <td>Female</td>\n",
       "      <td>38.0</td>\n",
       "      <td>Abuse of Authority</td>\n",
       "      <td>Failure to provide RTKA card</td>\n",
       "      <td>78.0</td>\n",
       "      <td>Report-domestic dispute</td>\n",
       "      <td>No arrest made or summons issued</td>\n",
       "      <td>Substantiated (Command Lvl Instructions)</td>\n",
       "    </tr>\n",
       "    <tr>\n",
       "      <th>1</th>\n",
       "      <td>10007</td>\n",
       "      <td>John</td>\n",
       "      <td>Sears</td>\n",
       "      <td>078 PCT</td>\n",
       "      <td>5952</td>\n",
       "      <td>24601</td>\n",
       "      <td>11</td>\n",
       "      <td>2011</td>\n",
       "      <td>8</td>\n",
       "      <td>2012</td>\n",
       "      <td>...</td>\n",
       "      <td>24</td>\n",
       "      <td>Black</td>\n",
       "      <td>Male</td>\n",
       "      <td>26.0</td>\n",
       "      <td>Discourtesy</td>\n",
       "      <td>Action</td>\n",
       "      <td>67.0</td>\n",
       "      <td>Moving violation</td>\n",
       "      <td>Moving violation summons issued</td>\n",
       "      <td>Substantiated (Charges)</td>\n",
       "    </tr>\n",
       "    <tr>\n",
       "      <th>2</th>\n",
       "      <td>10007</td>\n",
       "      <td>John</td>\n",
       "      <td>Sears</td>\n",
       "      <td>078 PCT</td>\n",
       "      <td>5952</td>\n",
       "      <td>24601</td>\n",
       "      <td>11</td>\n",
       "      <td>2011</td>\n",
       "      <td>8</td>\n",
       "      <td>2012</td>\n",
       "      <td>...</td>\n",
       "      <td>24</td>\n",
       "      <td>Black</td>\n",
       "      <td>Male</td>\n",
       "      <td>26.0</td>\n",
       "      <td>Offensive Language</td>\n",
       "      <td>Race</td>\n",
       "      <td>67.0</td>\n",
       "      <td>Moving violation</td>\n",
       "      <td>Moving violation summons issued</td>\n",
       "      <td>Substantiated (Charges)</td>\n",
       "    </tr>\n",
       "    <tr>\n",
       "      <th>3</th>\n",
       "      <td>10007</td>\n",
       "      <td>John</td>\n",
       "      <td>Sears</td>\n",
       "      <td>078 PCT</td>\n",
       "      <td>5952</td>\n",
       "      <td>26146</td>\n",
       "      <td>7</td>\n",
       "      <td>2012</td>\n",
       "      <td>9</td>\n",
       "      <td>2013</td>\n",
       "      <td>...</td>\n",
       "      <td>25</td>\n",
       "      <td>Black</td>\n",
       "      <td>Male</td>\n",
       "      <td>45.0</td>\n",
       "      <td>Abuse of Authority</td>\n",
       "      <td>Question</td>\n",
       "      <td>67.0</td>\n",
       "      <td>PD suspected C/V of violation/crime - street</td>\n",
       "      <td>No arrest made or summons issued</td>\n",
       "      <td>Substantiated (Charges)</td>\n",
       "    </tr>\n",
       "    <tr>\n",
       "      <th>4</th>\n",
       "      <td>10009</td>\n",
       "      <td>Noemi</td>\n",
       "      <td>Sierra</td>\n",
       "      <td>078 PCT</td>\n",
       "      <td>24058</td>\n",
       "      <td>40253</td>\n",
       "      <td>8</td>\n",
       "      <td>2018</td>\n",
       "      <td>2</td>\n",
       "      <td>2019</td>\n",
       "      <td>...</td>\n",
       "      <td>39</td>\n",
       "      <td>NaN</td>\n",
       "      <td>NaN</td>\n",
       "      <td>16.0</td>\n",
       "      <td>Force</td>\n",
       "      <td>Physical force</td>\n",
       "      <td>67.0</td>\n",
       "      <td>Report-dispute</td>\n",
       "      <td>Arrest - other violation/crime</td>\n",
       "      <td>Substantiated (Command Discipline A)</td>\n",
       "    </tr>\n",
       "  </tbody>\n",
       "</table>\n",
       "<p>5 rows × 27 columns</p>\n",
       "</div>"
      ],
      "text/plain": [
       "   unique_mos_id first_name last_name command_now  shield_no  complaint_id  \\\n",
       "0          10004   Jonathan      Ruiz     078 PCT       8409         42835   \n",
       "1          10007       John     Sears     078 PCT       5952         24601   \n",
       "2          10007       John     Sears     078 PCT       5952         24601   \n",
       "3          10007       John     Sears     078 PCT       5952         26146   \n",
       "4          10009      Noemi    Sierra     078 PCT      24058         40253   \n",
       "\n",
       "   month_received  year_received  month_closed  year_closed  ...  \\\n",
       "0               7           2019             5         2020  ...   \n",
       "1              11           2011             8         2012  ...   \n",
       "2              11           2011             8         2012  ...   \n",
       "3               7           2012             9         2013  ...   \n",
       "4               8           2018             2         2019  ...   \n",
       "\n",
       "  mos_age_incident complainant_ethnicity complainant_gender  \\\n",
       "0               32                 Black             Female   \n",
       "1               24                 Black               Male   \n",
       "2               24                 Black               Male   \n",
       "3               25                 Black               Male   \n",
       "4               39                   NaN                NaN   \n",
       "\n",
       "  complainant_age_incident           fado_type                    allegation  \\\n",
       "0                     38.0  Abuse of Authority  Failure to provide RTKA card   \n",
       "1                     26.0         Discourtesy                        Action   \n",
       "2                     26.0  Offensive Language                          Race   \n",
       "3                     45.0  Abuse of Authority                      Question   \n",
       "4                     16.0               Force                Physical force   \n",
       "\n",
       "  precinct                                contact_reason  \\\n",
       "0     78.0                       Report-domestic dispute   \n",
       "1     67.0                              Moving violation   \n",
       "2     67.0                              Moving violation   \n",
       "3     67.0  PD suspected C/V of violation/crime - street   \n",
       "4     67.0                                Report-dispute   \n",
       "\n",
       "                outcome_description                         board_disposition  \n",
       "0  No arrest made or summons issued  Substantiated (Command Lvl Instructions)  \n",
       "1   Moving violation summons issued                   Substantiated (Charges)  \n",
       "2   Moving violation summons issued                   Substantiated (Charges)  \n",
       "3  No arrest made or summons issued                   Substantiated (Charges)  \n",
       "4    Arrest - other violation/crime      Substantiated (Command Discipline A)  \n",
       "\n",
       "[5 rows x 27 columns]"
      ]
     },
     "execution_count": 2,
     "metadata": {},
     "output_type": "execute_result"
    }
   ],
   "source": [
    "# read in the .csv file into a dataframe\n",
    "data = pd.read_csv(\"allegations.csv\")\n",
    "# show the first 5 rows of the data\n",
    "data.head(5)"
   ]
  },
  {
   "cell_type": "markdown",
   "metadata": {},
   "source": [
    "This code properly replaces \"Unknown\"s with NaNs to make the data more tidy.\n",
    "Also, it is unreasonable to observe a negative complainant's age, since age can only be a nonzero value, so complainant ages that are negative were replaced with NaNs.\n",
    "A new column called \"substantiated\" was added recording whether or not the complaint was substantiated to make analyzing complaint substantiation dependency on gender simpler."
   ]
  },
  {
   "cell_type": "code",
   "execution_count": 3,
   "metadata": {},
   "outputs": [
    {
     "data": {
      "text/html": [
       "<div>\n",
       "<style scoped>\n",
       "    .dataframe tbody tr th:only-of-type {\n",
       "        vertical-align: middle;\n",
       "    }\n",
       "\n",
       "    .dataframe tbody tr th {\n",
       "        vertical-align: top;\n",
       "    }\n",
       "\n",
       "    .dataframe thead th {\n",
       "        text-align: right;\n",
       "    }\n",
       "</style>\n",
       "<table border=\"1\" class=\"dataframe\">\n",
       "  <thead>\n",
       "    <tr style=\"text-align: right;\">\n",
       "      <th></th>\n",
       "      <th>unique_mos_id</th>\n",
       "      <th>first_name</th>\n",
       "      <th>last_name</th>\n",
       "      <th>command_now</th>\n",
       "      <th>shield_no</th>\n",
       "      <th>complaint_id</th>\n",
       "      <th>month_received</th>\n",
       "      <th>year_received</th>\n",
       "      <th>month_closed</th>\n",
       "      <th>year_closed</th>\n",
       "      <th>...</th>\n",
       "      <th>complainant_ethnicity</th>\n",
       "      <th>complainant_gender</th>\n",
       "      <th>complainant_age_incident</th>\n",
       "      <th>fado_type</th>\n",
       "      <th>allegation</th>\n",
       "      <th>precinct</th>\n",
       "      <th>contact_reason</th>\n",
       "      <th>outcome_description</th>\n",
       "      <th>board_disposition</th>\n",
       "      <th>substantiated</th>\n",
       "    </tr>\n",
       "  </thead>\n",
       "  <tbody>\n",
       "    <tr>\n",
       "      <th>0</th>\n",
       "      <td>10004</td>\n",
       "      <td>Jonathan</td>\n",
       "      <td>Ruiz</td>\n",
       "      <td>078 PCT</td>\n",
       "      <td>8409</td>\n",
       "      <td>42835</td>\n",
       "      <td>7</td>\n",
       "      <td>2019</td>\n",
       "      <td>5</td>\n",
       "      <td>2020</td>\n",
       "      <td>...</td>\n",
       "      <td>Black</td>\n",
       "      <td>Female</td>\n",
       "      <td>38.0</td>\n",
       "      <td>Abuse of Authority</td>\n",
       "      <td>Failure to provide RTKA card</td>\n",
       "      <td>78.0</td>\n",
       "      <td>Report-domestic dispute</td>\n",
       "      <td>No arrest made or summons issued</td>\n",
       "      <td>Substantiated (Command Lvl Instructions)</td>\n",
       "      <td>True</td>\n",
       "    </tr>\n",
       "    <tr>\n",
       "      <th>1</th>\n",
       "      <td>10007</td>\n",
       "      <td>John</td>\n",
       "      <td>Sears</td>\n",
       "      <td>078 PCT</td>\n",
       "      <td>5952</td>\n",
       "      <td>24601</td>\n",
       "      <td>11</td>\n",
       "      <td>2011</td>\n",
       "      <td>8</td>\n",
       "      <td>2012</td>\n",
       "      <td>...</td>\n",
       "      <td>Black</td>\n",
       "      <td>Male</td>\n",
       "      <td>26.0</td>\n",
       "      <td>Discourtesy</td>\n",
       "      <td>Action</td>\n",
       "      <td>67.0</td>\n",
       "      <td>Moving violation</td>\n",
       "      <td>Moving violation summons issued</td>\n",
       "      <td>Substantiated (Charges)</td>\n",
       "      <td>True</td>\n",
       "    </tr>\n",
       "    <tr>\n",
       "      <th>2</th>\n",
       "      <td>10007</td>\n",
       "      <td>John</td>\n",
       "      <td>Sears</td>\n",
       "      <td>078 PCT</td>\n",
       "      <td>5952</td>\n",
       "      <td>24601</td>\n",
       "      <td>11</td>\n",
       "      <td>2011</td>\n",
       "      <td>8</td>\n",
       "      <td>2012</td>\n",
       "      <td>...</td>\n",
       "      <td>Black</td>\n",
       "      <td>Male</td>\n",
       "      <td>26.0</td>\n",
       "      <td>Offensive Language</td>\n",
       "      <td>Race</td>\n",
       "      <td>67.0</td>\n",
       "      <td>Moving violation</td>\n",
       "      <td>Moving violation summons issued</td>\n",
       "      <td>Substantiated (Charges)</td>\n",
       "      <td>True</td>\n",
       "    </tr>\n",
       "    <tr>\n",
       "      <th>3</th>\n",
       "      <td>10007</td>\n",
       "      <td>John</td>\n",
       "      <td>Sears</td>\n",
       "      <td>078 PCT</td>\n",
       "      <td>5952</td>\n",
       "      <td>26146</td>\n",
       "      <td>7</td>\n",
       "      <td>2012</td>\n",
       "      <td>9</td>\n",
       "      <td>2013</td>\n",
       "      <td>...</td>\n",
       "      <td>Black</td>\n",
       "      <td>Male</td>\n",
       "      <td>45.0</td>\n",
       "      <td>Abuse of Authority</td>\n",
       "      <td>Question</td>\n",
       "      <td>67.0</td>\n",
       "      <td>PD suspected C/V of violation/crime - street</td>\n",
       "      <td>No arrest made or summons issued</td>\n",
       "      <td>Substantiated (Charges)</td>\n",
       "      <td>True</td>\n",
       "    </tr>\n",
       "    <tr>\n",
       "      <th>4</th>\n",
       "      <td>10009</td>\n",
       "      <td>Noemi</td>\n",
       "      <td>Sierra</td>\n",
       "      <td>078 PCT</td>\n",
       "      <td>24058</td>\n",
       "      <td>40253</td>\n",
       "      <td>8</td>\n",
       "      <td>2018</td>\n",
       "      <td>2</td>\n",
       "      <td>2019</td>\n",
       "      <td>...</td>\n",
       "      <td>NaN</td>\n",
       "      <td>NaN</td>\n",
       "      <td>16.0</td>\n",
       "      <td>Force</td>\n",
       "      <td>Physical force</td>\n",
       "      <td>67.0</td>\n",
       "      <td>Report-dispute</td>\n",
       "      <td>Arrest - other violation/crime</td>\n",
       "      <td>Substantiated (Command Discipline A)</td>\n",
       "      <td>True</td>\n",
       "    </tr>\n",
       "  </tbody>\n",
       "</table>\n",
       "<p>5 rows × 28 columns</p>\n",
       "</div>"
      ],
      "text/plain": [
       "   unique_mos_id first_name last_name command_now  shield_no  complaint_id  \\\n",
       "0          10004   Jonathan      Ruiz     078 PCT       8409         42835   \n",
       "1          10007       John     Sears     078 PCT       5952         24601   \n",
       "2          10007       John     Sears     078 PCT       5952         24601   \n",
       "3          10007       John     Sears     078 PCT       5952         26146   \n",
       "4          10009      Noemi    Sierra     078 PCT      24058         40253   \n",
       "\n",
       "   month_received  year_received  month_closed  year_closed  ...  \\\n",
       "0               7           2019             5         2020  ...   \n",
       "1              11           2011             8         2012  ...   \n",
       "2              11           2011             8         2012  ...   \n",
       "3               7           2012             9         2013  ...   \n",
       "4               8           2018             2         2019  ...   \n",
       "\n",
       "  complainant_ethnicity complainant_gender complainant_age_incident  \\\n",
       "0                 Black             Female                     38.0   \n",
       "1                 Black               Male                     26.0   \n",
       "2                 Black               Male                     26.0   \n",
       "3                 Black               Male                     45.0   \n",
       "4                   NaN                NaN                     16.0   \n",
       "\n",
       "            fado_type                    allegation precinct  \\\n",
       "0  Abuse of Authority  Failure to provide RTKA card     78.0   \n",
       "1         Discourtesy                        Action     67.0   \n",
       "2  Offensive Language                          Race     67.0   \n",
       "3  Abuse of Authority                      Question     67.0   \n",
       "4               Force                Physical force     67.0   \n",
       "\n",
       "                                 contact_reason  \\\n",
       "0                       Report-domestic dispute   \n",
       "1                              Moving violation   \n",
       "2                              Moving violation   \n",
       "3  PD suspected C/V of violation/crime - street   \n",
       "4                                Report-dispute   \n",
       "\n",
       "                outcome_description                         board_disposition  \\\n",
       "0  No arrest made or summons issued  Substantiated (Command Lvl Instructions)   \n",
       "1   Moving violation summons issued                   Substantiated (Charges)   \n",
       "2   Moving violation summons issued                   Substantiated (Charges)   \n",
       "3  No arrest made or summons issued                   Substantiated (Charges)   \n",
       "4    Arrest - other violation/crime      Substantiated (Command Discipline A)   \n",
       "\n",
       "  substantiated  \n",
       "0          True  \n",
       "1          True  \n",
       "2          True  \n",
       "3          True  \n",
       "4          True  \n",
       "\n",
       "[5 rows x 28 columns]"
      ]
     },
     "execution_count": 3,
     "metadata": {},
     "output_type": "execute_result"
    }
   ],
   "source": [
    "# replace \"Unknown\"s with NaNs\n",
    "data = data.replace(\"Unknown\", np.NaN)\n",
    "# replace negative complainant ages with NaNs\n",
    "data[\"complainant_age_incident\"] = \\\n",
    "    data[\"complainant_age_incident\"].mask(data[\"complainant_age_incident\"] < 0, np.NaN)\n",
    "# create a new column to record whether or not the complaint was substantiated\n",
    "data[\"substantiated\"] = data[\"board_disposition\"].str.contains(\"Substantiated\")\n",
    "# show the first 5 rows of the data\n",
    "data.head()"
   ]
  },
  {
   "cell_type": "markdown",
   "metadata": {},
   "source": [
    "This code is a univariate analysis of the complainant gender column."
   ]
  },
  {
   "cell_type": "code",
   "execution_count": 4,
   "metadata": {},
   "outputs": [
    {
     "name": "stdout",
     "output_type": "stream",
     "text": [
      "Female Complainants: 0.17217021568425744\n",
      "Male Complainants: 0.8249494222130782\n"
     ]
    },
    {
     "data": {
      "image/png": "[encoded data removed]",
      "text/plain": [
       "<Figure size 720x360 with 1 Axes>"
      ]
     },
     "metadata": {
      "image/png": {
       "height": 428,
       "width": 608
      },
      "needs_background": "light"
     },
     "output_type": "display_data"
    }
   ],
   "source": [
    "# set a title for the graph\n",
    "title = \"Frequency of Complainant Gender\"\n",
    "# set a y-label for the graph\n",
    "ylabel = \"Relative Frequency\"\n",
    "# graph the frequencies of complainant gender\n",
    "gender_frequency = data[\"complainant_gender\"].value_counts(normalize = True)\n",
    "gender_frequency.plot(kind = \"bar\", \n",
    "                      title = title,\n",
    "                      ylabel = ylabel,\n",
    "                      figsize = (10, 5))\n",
    "# print the male and female frequencies\n",
    "print(\"Female Complainants: \" + str(gender_frequency[\"Female\"]))\n",
    "print(\"Male Complainants: \" + str(gender_frequency[\"Male\"]))"
   ]
  },
  {
   "cell_type": "markdown",
   "metadata": {},
   "source": [
    "This code is a bivariate analysis of complainant gender and officer gender. The pivot table shows percentages of officers with complaints against them separated by their gender and the gender of the complainant."
   ]
  },
  {
   "cell_type": "code",
   "execution_count": 5,
   "metadata": {
    "scrolled": true
   },
   "outputs": [
    {
     "data": {
      "text/html": [
       "<div>\n",
       "<style scoped>\n",
       "    .dataframe tbody tr th:only-of-type {\n",
       "        vertical-align: middle;\n",
       "    }\n",
       "\n",
       "    .dataframe tbody tr th {\n",
       "        vertical-align: top;\n",
       "    }\n",
       "\n",
       "    .dataframe thead th {\n",
       "        text-align: right;\n",
       "    }\n",
       "</style>\n",
       "<table border=\"1\" class=\"dataframe\">\n",
       "  <thead>\n",
       "    <tr style=\"text-align: right;\">\n",
       "      <th>complainant_gender</th>\n",
       "      <th>Female</th>\n",
       "      <th>Gender non-conforming</th>\n",
       "      <th>Male</th>\n",
       "      <th>Not described</th>\n",
       "      <th>Transman (FTM)</th>\n",
       "      <th>Transwoman (MTF)</th>\n",
       "    </tr>\n",
       "    <tr>\n",
       "      <th>mos_gender</th>\n",
       "      <th></th>\n",
       "      <th></th>\n",
       "      <th></th>\n",
       "      <th></th>\n",
       "      <th></th>\n",
       "      <th></th>\n",
       "    </tr>\n",
       "  </thead>\n",
       "  <tbody>\n",
       "    <tr>\n",
       "      <th>F</th>\n",
       "      <td>0.387461</td>\n",
       "      <td>0.000000</td>\n",
       "      <td>0.608777</td>\n",
       "      <td>0.001881</td>\n",
       "      <td>0.001881</td>\n",
       "      <td>0.000000</td>\n",
       "    </tr>\n",
       "    <tr>\n",
       "      <th>M</th>\n",
       "      <td>0.159714</td>\n",
       "      <td>0.000073</td>\n",
       "      <td>0.837456</td>\n",
       "      <td>0.001959</td>\n",
       "      <td>0.000073</td>\n",
       "      <td>0.000725</td>\n",
       "    </tr>\n",
       "  </tbody>\n",
       "</table>\n",
       "</div>"
      ],
      "text/plain": [
       "complainant_gender    Female  Gender non-conforming      Male  Not described  \\\n",
       "mos_gender                                                                     \n",
       "F                   0.387461               0.000000  0.608777       0.001881   \n",
       "M                   0.159714               0.000073  0.837456       0.001959   \n",
       "\n",
       "complainant_gender  Transman (FTM)  Transwoman (MTF)  \n",
       "mos_gender                                            \n",
       "F                         0.001881          0.000000  \n",
       "M                         0.000073          0.000725  "
      ]
     },
     "execution_count": 5,
     "metadata": {},
     "output_type": "execute_result"
    }
   ],
   "source": [
    "# pivot the data by complainant gender dependent on officer gender\n",
    "genders = data.pivot_table(index = \"mos_gender\", \n",
    "                           columns = \"complainant_gender\", \n",
    "                           aggfunc = \"size\")\n",
    "# compute the proportions\n",
    "genders = genders.apply(lambda x:x/x.sum(), axis = 1).fillna(0)\n",
    "# display the pivot table\n",
    "genders"
   ]
  },
  {
   "cell_type": "markdown",
   "metadata": {},
   "source": [
    "#### Assessment of Missingness"
   ]
  },
  {
   "cell_type": "markdown",
   "metadata": {},
   "source": [
    "This code creates a function to help simplify work of creating pivot tables to show conditional distributions, specifically for missingness values."
   ]
  },
  {
   "cell_type": "code",
   "execution_count": 6,
   "metadata": {},
   "outputs": [],
   "source": [
    "# function that takes a dataframe, column to examine missingness for, and column to check\n",
    "# missingness dependency for as input, and returns data pivoted by the given arguments\n",
    "def pivot_missingness(df, missing, dependent):\n",
    "    # create a copy of the dataframe\n",
    "    data = df.copy()\n",
    "    # construct the name of the column for recording missingness of the given column\n",
    "    missing_column = missing + \"_null\"\n",
    "    # add the column to the data\n",
    "    data[missing_column] = pd.isnull(data[missing])\n",
    "    # pivot the data by missingness dependent on the given column to check\n",
    "    pivot = data.pivot_table(index = dependent, \n",
    "                             columns = missing_column, \n",
    "                             aggfunc = \"size\").fillna(0)\n",
    "    # compute the proportions\n",
    "    pivot = pivot.apply(lambda x:x/x.sum(), axis = 1)\n",
    "    # return this pivot table\n",
    "    return pivot"
   ]
  },
  {
   "cell_type": "markdown",
   "metadata": {},
   "source": [
    "This section displays a pivot table showing the missingness of complainant gender dependent on officer ethnicity."
   ]
  },
  {
   "cell_type": "code",
   "execution_count": 7,
   "metadata": {},
   "outputs": [
    {
     "data": {
      "text/html": [
       "<div>\n",
       "<style scoped>\n",
       "    .dataframe tbody tr th:only-of-type {\n",
       "        vertical-align: middle;\n",
       "    }\n",
       "\n",
       "    .dataframe tbody tr th {\n",
       "        vertical-align: top;\n",
       "    }\n",
       "\n",
       "    .dataframe thead th {\n",
       "        text-align: right;\n",
       "    }\n",
       "</style>\n",
       "<table border=\"1\" class=\"dataframe\">\n",
       "  <thead>\n",
       "    <tr style=\"text-align: right;\">\n",
       "      <th>complainant_gender_null</th>\n",
       "      <th>False</th>\n",
       "      <th>True</th>\n",
       "    </tr>\n",
       "    <tr>\n",
       "      <th>mos_ethnicity</th>\n",
       "      <th></th>\n",
       "      <th></th>\n",
       "    </tr>\n",
       "  </thead>\n",
       "  <tbody>\n",
       "    <tr>\n",
       "      <th>American Indian</th>\n",
       "      <td>0.937500</td>\n",
       "      <td>0.062500</td>\n",
       "    </tr>\n",
       "    <tr>\n",
       "      <th>Asian</th>\n",
       "      <td>0.903226</td>\n",
       "      <td>0.096774</td>\n",
       "    </tr>\n",
       "    <tr>\n",
       "      <th>Black</th>\n",
       "      <td>0.884444</td>\n",
       "      <td>0.115556</td>\n",
       "    </tr>\n",
       "    <tr>\n",
       "      <th>Hispanic</th>\n",
       "      <td>0.905683</td>\n",
       "      <td>0.094317</td>\n",
       "    </tr>\n",
       "    <tr>\n",
       "      <th>White</th>\n",
       "      <td>0.853547</td>\n",
       "      <td>0.146453</td>\n",
       "    </tr>\n",
       "  </tbody>\n",
       "</table>\n",
       "</div>"
      ],
      "text/plain": [
       "complainant_gender_null     False      True\n",
       "mos_ethnicity                              \n",
       "American Indian          0.937500  0.062500\n",
       "Asian                    0.903226  0.096774\n",
       "Black                    0.884444  0.115556\n",
       "Hispanic                 0.905683  0.094317\n",
       "White                    0.853547  0.146453"
      ]
     },
     "execution_count": 7,
     "metadata": {},
     "output_type": "execute_result"
    }
   ],
   "source": [
    "# argument: \"complainant_gender\" as the column with missing values\n",
    "missing = \"complainant_gender\"\n",
    "# argument: \"mos_ethnicity\" to see if complainant gender missingness is dependent on \n",
    "# officer gender\n",
    "dependent = \"mos_ethnicity\"\n",
    "# create a pivot table using the function and previously declared arguments\n",
    "gender_ethnicity_missingness = pivot_missingness(data, missing, dependent)\n",
    "# display the pivot table\n",
    "gender_ethnicity_missingness"
   ]
  },
  {
   "cell_type": "markdown",
   "metadata": {},
   "source": [
    "This code block displays a bar graph comparing the amount of missingness of the complainant gender column within officer ethnicity."
   ]
  },
  {
   "cell_type": "code",
   "execution_count": 8,
   "metadata": {
    "scrolled": true
   },
   "outputs": [
    {
     "data": {
      "text/plain": [
       "<AxesSubplot:title={'center':'Missingness of Complainant Gender Dependent on Officer Ethnicity'}, xlabel='Officer Ethnicity', ylabel='Relative Frequency'>"
      ]
     },
     "execution_count": 8,
     "metadata": {},
     "output_type": "execute_result"
    },
    {
     "data": {
      "image/png": "[encoded data removed]",
      "text/plain": [
       "<Figure size 720x216 with 1 Axes>"
      ]
     },
     "metadata": {
      "image/png": {
       "height": 295,
       "width": 608
      },
      "needs_background": "light"
     },
     "output_type": "display_data"
    }
   ],
   "source": [
    "# set a title for the graph\n",
    "title = \"Missingness of Complainant Gender Dependent on Officer Ethnicity\"\n",
    "# graph the frequencies of missingness of complainant gender dependent on officer\n",
    "# ethnicity\n",
    "gender_ethnicity_missingness.plot(kind = \"bar\", \n",
    "                                  title = title, \n",
    "                                  xlabel = \"Officer Ethnicity\", \n",
    "                                  ylabel = \"Relative Frequency\", \n",
    "                                  figsize = (10, 3))"
   ]
  },
  {
   "cell_type": "markdown",
   "metadata": {},
   "source": [
    "This section displays a pivot table for the conditional distribution of complainant gender missingness dependent on the officer's gender."
   ]
  },
  {
   "cell_type": "code",
   "execution_count": 9,
   "metadata": {},
   "outputs": [
    {
     "data": {
      "text/html": [
       "<div>\n",
       "<style scoped>\n",
       "    .dataframe tbody tr th:only-of-type {\n",
       "        vertical-align: middle;\n",
       "    }\n",
       "\n",
       "    .dataframe tbody tr th {\n",
       "        vertical-align: top;\n",
       "    }\n",
       "\n",
       "    .dataframe thead th {\n",
       "        text-align: right;\n",
       "    }\n",
       "</style>\n",
       "<table border=\"1\" class=\"dataframe\">\n",
       "  <thead>\n",
       "    <tr style=\"text-align: right;\">\n",
       "      <th>complainant_gender_null</th>\n",
       "      <th>False</th>\n",
       "      <th>True</th>\n",
       "    </tr>\n",
       "    <tr>\n",
       "      <th>mos_gender</th>\n",
       "      <th></th>\n",
       "      <th></th>\n",
       "    </tr>\n",
       "  </thead>\n",
       "  <tbody>\n",
       "    <tr>\n",
       "      <th>F</th>\n",
       "      <td>0.90625</td>\n",
       "      <td>0.09375</td>\n",
       "    </tr>\n",
       "    <tr>\n",
       "      <th>M</th>\n",
       "      <td>0.87246</td>\n",
       "      <td>0.12754</td>\n",
       "    </tr>\n",
       "  </tbody>\n",
       "</table>\n",
       "</div>"
      ],
      "text/plain": [
       "complainant_gender_null    False     True\n",
       "mos_gender                               \n",
       "F                        0.90625  0.09375\n",
       "M                        0.87246  0.12754"
      ]
     },
     "execution_count": 9,
     "metadata": {},
     "output_type": "execute_result"
    }
   ],
   "source": [
    "# argument: \"complainant_gender\" as the column with missing values\n",
    "missing = \"complainant_gender\"\n",
    "# argument: \"mos_gender\" to see if complainant gender missingness is dependent on officer\n",
    "# gender\n",
    "dependent = \"mos_gender\"\n",
    "# create a pivot table using the function and previously declared arguments\n",
    "gender_missingness = pivot_missingness(data, missing, dependent)\n",
    "# display the pivot table\n",
    "gender_missingness"
   ]
  },
  {
   "cell_type": "markdown",
   "metadata": {},
   "source": [
    "This section plots a bar graph comparing the amount of missingness of complainant gender values within officer gender."
   ]
  },
  {
   "cell_type": "code",
   "execution_count": 10,
   "metadata": {},
   "outputs": [
    {
     "data": {
      "text/plain": [
       "<AxesSubplot:title={'center':'Missingness of Complainant Gender Dependent on Officer Gender'}, xlabel='Officer Gender', ylabel='Relative Frequency'>"
      ]
     },
     "execution_count": 10,
     "metadata": {},
     "output_type": "execute_result"
    },
    {
     "data": {
      "image/png": "[encoded data removed]",
      "text/plain": [
       "<Figure size 720x360 with 1 Axes>"
      ]
     },
     "metadata": {
      "image/png": {
       "height": 330,
       "width": 608
      },
      "needs_background": "light"
     },
     "output_type": "display_data"
    }
   ],
   "source": [
    "# set a title for the graph\n",
    "title = \"Missingness of Complainant Gender Dependent on Officer Gender\"\n",
    "# graph the frequencies of missingness of complainant gender dependent on officer gender\n",
    "gender_missingness.plot(kind = \"bar\", \n",
    "                        title = title, \n",
    "                        xlabel = \"Officer Gender\", \n",
    "                        ylabel = \"Relative Frequency\", \n",
    "                        figsize = (10, 5))"
   ]
  },
  {
   "cell_type": "markdown",
   "metadata": {},
   "source": [
    "These functions were created to help simplify tedious work in performing a permutation test for assessing missingness of a column possibly dependent on another column."
   ]
  },
  {
   "cell_type": "code",
   "execution_count": 11,
   "metadata": {},
   "outputs": [],
   "source": [
    "# function that takes a pivot table as input and returns the total consecutive difference\n",
    "# of the missingness\n",
    "def difference_missingness(pivot):\n",
    "    # compute the statistic\n",
    "    statistic = abs(pivot.diff())[True].sum()\n",
    "    # return the statistic\n",
    "    return statistic\n",
    "\n",
    "# function that takes in a dataframe, column with missing values to examine, column that\n",
    "# the column with missing values is possibly dependent on, and an integer n to run n\n",
    "# number of simulations with, prints the resulting observed value, p-value, and plots\n",
    "# a histogram of the random distribution of the test statistic\n",
    "def simulations_missingness(df, missing, dependent, n):\n",
    "    # create a pivot table using the function parameters\n",
    "    pivot = pivot_missingness(df, missing, dependent)\n",
    "    # find the observed test statistic\n",
    "    observation = difference_missingness(pivot)\n",
    "    # create an array of zeros with length n to record simulation test statistics with\n",
    "    statistics = np.zeros(n)\n",
    "    # run n simulations\n",
    "    for i in range(n):\n",
    "        # create a copy of the data\n",
    "        simulation = df.copy()\n",
    "        # shuffle the column the missing values may be dependent on\n",
    "        simulation[dependent] = df.sample(frac = 1, random_state = i).reset_index()[dependent]\n",
    "        # pivot the shuffled data\n",
    "        simulation_pivot = pivot_missingness(simulation, missing, dependent)\n",
    "        # compute the test statistic for this simulation\n",
    "        statistic = difference_missingness(simulation_pivot)\n",
    "        # record the test statistic in the array\n",
    "        statistics[i] = statistic\n",
    "    # convert the array to a series\n",
    "    results = pd.Series(statistics)\n",
    "    # find the p-value of the test\n",
    "    p_value = (results >= observation).mean()\n",
    "    # modify the column names to be more readable\n",
    "    missing_title = missing.replace('_', ' ').title()\n",
    "    dependent_title = dependent.replace(\"mos\", \"officer\")\n",
    "    dependent_title = dependent_title.replace('_', ' ').title()\n",
    "    # set a title for the graph\n",
    "    title = \"Random Distribution of Total Consecutive Difference Between Missingness\"\n",
    "    title += \" of \" + missing_title + \" Dependent On \" + dependent_title\n",
    "    # plot a histogram of the random distribution of test statistics under the null\n",
    "    # hypothesis\n",
    "    results.plot(kind = \"hist\", \n",
    "                title = title, \n",
    "                figsize = (10, 5))\n",
    "    # return the observation and p-value\n",
    "    return observation, p_value"
   ]
  },
  {
   "cell_type": "markdown",
   "metadata": {},
   "source": [
    "This section performs a permutation test, running 1,000 simulations and calculating the total consecutive difference to assess whether or not the missingness of complainant gender is dependent on officer ethnicity."
   ]
  },
  {
   "cell_type": "code",
   "execution_count": 12,
   "metadata": {},
   "outputs": [
    {
     "name": "stdout",
     "output_type": "stream",
     "text": [
      "observed value: 0.12643250561836228\n",
      "p-value: 0.068\n",
      "reject null hypothesis: False\n"
     ]
    },
    {
     "data": {
      "image/png": "[encoded data removed]",
      "text/plain": [
       "<Figure size 720x360 with 1 Axes>"
      ]
     },
     "metadata": {
      "image/png": {
       "height": 318,
       "width": 795
      },
      "needs_background": "light"
     },
     "output_type": "display_data"
    }
   ],
   "source": [
    "# fix a significance level of 0.01\n",
    "significance = 0.01\n",
    "# set simulation count to 1,000\n",
    "n = 1_000\n",
    "# argument: \"complainant_gender\" as the column with missing values\n",
    "missing = \"complainant_gender\"\n",
    "# argument: \"mos_ethnicity\" as the column the missing values may be dependent on\n",
    "dependent = \"mos_ethnicity\"\n",
    "# obtain the observed value and p-value from running 1,000 simulations\n",
    "observation, p_value = simulations_missingness(data, missing, dependent, n)\n",
    "# create a boolean to record whether or not to reject the null hypothesis\n",
    "reject_null = (p_value < significance)\n",
    "# print the results\n",
    "print(\"observed value: \" + str(observation))\n",
    "print(\"p-value: \" + str(p_value))\n",
    "print(\"reject null hypothesis: \" + str(reject_null))"
   ]
  },
  {
   "cell_type": "markdown",
   "metadata": {},
   "source": [
    "This section performs another permutation test, running 1,000 simulations and calculating the total consecutive difference to assess whether or not the missingness of complainant gender is dependent on officer gender."
   ]
  },
  {
   "cell_type": "code",
   "execution_count": 13,
   "metadata": {},
   "outputs": [
    {
     "name": "stdout",
     "output_type": "stream",
     "text": [
      "observed value: 0.03378971770365213\n",
      "p-value: 0.0\n",
      "reject null hypothesis: True\n"
     ]
    },
    {
     "data": {
      "image/png": "[encoded data removed]",
      "text/plain": [
       "<Figure size 720x360 with 1 Axes>"
      ]
     },
     "metadata": {
      "image/png": {
       "height": 318,
       "width": 787
      },
      "needs_background": "light"
     },
     "output_type": "display_data"
    }
   ],
   "source": [
    "# fix a significance level of 0.01\n",
    "significance = 0.01\n",
    "# set simulation count to 1,000\n",
    "n = 1_000\n",
    "# argument: \"complainant_gender\" as the column with missing values\n",
    "missing = \"complainant_gender\"\n",
    "# argument: \"mos_gender\" as the column the missing values may be dependent on\n",
    "dependent = \"mos_gender\"\n",
    "# obtain the observed value and p-value from running 1,000 simulations\n",
    "observation, p_value = simulations_missingness(data, missing, dependent, n)\n",
    "# create a boolean to record whether or not to reject the null hypothesis\n",
    "reject_null = (p_value < significance)\n",
    "# print the results\n",
    "print(\"observed value: \" + str(observation))\n",
    "print(\"p-value: \" + str(p_value))\n",
    "print(\"reject null hypothesis: \" + str(reject_null))"
   ]
  },
  {
   "cell_type": "markdown",
   "metadata": {},
   "source": [
    "#### Hypothesis Test"
   ]
  },
  {
   "cell_type": "markdown",
   "metadata": {},
   "source": [
    "Similar to functions above, these functions help simplify tedious work to perform the permutation test and answer whether or not women find more success in their complaints compared to men."
   ]
  },
  {
   "cell_type": "code",
   "execution_count": 14,
   "metadata": {},
   "outputs": [],
   "source": [
    "# function that takes in a dataframe as input and returns a pivot table pivoted by\n",
    "# the genders male and female, and whether or not the complaint was substantiated along\n",
    "# with the specified allegation\n",
    "def pivot_gender(data):\n",
    "    # record the genders that are not \"Male\" and \"Female\" as a filter for later\n",
    "    gender_filter = data[(data[\"complainant_gender\"] != \"Male\") \n",
    "                         & (data[\"complainant_gender\"] != \"Female\")]\n",
    "    gender_filter = gender_filter[\"complainant_gender\"].drop_duplicates().tolist()\n",
    "    if np.NaN in gender_filter:\n",
    "        gender_filter.remove(np.NaN)\n",
    "    # pivot the data by complainant gender, whether or not the complaint was\n",
    "    # substantiated, and the specified complaint allegation\n",
    "    pivot = data.pivot_table(index = \"complainant_gender\", \n",
    "                             columns = [\"substantiated\", \"allegation\"], \n",
    "                             aggfunc = \"size\").fillna(0)\n",
    "    # drop the genders that are not \"Male\" or \"Female\"\n",
    "    pivot = pivot.drop(index = gender_filter)\n",
    "    # compute the proportions\n",
    "    pivot = pivot.apply(lambda x:x/x.sum(), axis = 1)\n",
    "    # return the pivot table\n",
    "    return pivot\n",
    "\n",
    "# function that takes in a pivot table as input and returns the total difference between\n",
    "# female and male complaint success rates\n",
    "def difference_gender(df):\n",
    "    # create a copy of the pivot table\n",
    "    pivot = df.copy()\n",
    "    # find where the complaints were substantiated\n",
    "    pivot = pivot[True]\n",
    "    # find the female complaint success rates indexed by allegation\n",
    "    female = pivot.loc[pivot.index == \"Female\"].transpose()[\"Female\"]\n",
    "    # find the male complaint success rates indexed by allegation\n",
    "    male = pivot.loc[pivot.index == \"Male\"].transpose()[\"Male\"]\n",
    "    # subtract male complaint success rates from female complaint success rates\n",
    "    return (female - male).sum()\n"
   ]
  },
  {
   "cell_type": "markdown",
   "metadata": {},
   "source": [
    "This section performs a permutation test, running 1,000 simulations and calculating the total difference between female and male complaint substantiation to find a p-value for the test."
   ]
  },
  {
   "cell_type": "code",
   "execution_count": 15,
   "metadata": {},
   "outputs": [
    {
     "name": "stdout",
     "output_type": "stream",
     "text": [
      "observed value: -0.050137042676639744\n",
      "p-value: 1.0\n",
      "reject null hypothesis: False\n"
     ]
    },
    {
     "data": {
      "image/png": "[encoded data removed]",
      "text/plain": [
       "<Figure size 720x360 with 1 Axes>"
      ]
     },
     "metadata": {
      "image/png": {
       "height": 318,
       "width": 761
      },
      "needs_background": "light"
     },
     "output_type": "display_data"
    }
   ],
   "source": [
    "# fix a significance level of 0.01\n",
    "significance = 0.01\n",
    "# set simulation count to 1,000\n",
    "n = 1_000\n",
    "# create a pivot table for the observed data by complaint gender and whether or not\n",
    "# the complaint was substantiated along with specified allegation\n",
    "pivot = pivot_gender(data)\n",
    "# find the observed test statistic\n",
    "observation = difference_gender(pivot)\n",
    "# create an array of length 1,000 to record simulation test statistics in\n",
    "statistics = np.zeros(n)\n",
    "# run 1,000 simulations\n",
    "for i in range(n):\n",
    "    # copy the data\n",
    "    simulation = data.copy()\n",
    "    # shuffle the complainant gender column\n",
    "    simulation[\"complainant_gender\"] = \\\n",
    "        simulation.sample(frac = 1, random_state = i).reset_index()[\"complainant_gender\"]\n",
    "    # pivot the simulation data\n",
    "    simulation_pivot = pivot_gender(simulation)\n",
    "    # find the simulation test statistic\n",
    "    statistic = difference_gender(simulation_pivot)\n",
    "    # record the test statistic in the array\n",
    "    statistics[i] = statistic\n",
    "# convert the array to a series\n",
    "results = pd.Series(statistics)\n",
    "# find the p-value of the test\n",
    "p_value = (results >= observation).mean()\n",
    "# create a boolean to record whether or not to reject the null hypothesis\n",
    "reject_null = (p_value < significance)\n",
    "# set a title for the graph\n",
    "title = \"Random Distribution of the Total Difference Between Female Complaint \" + \\\n",
    "    \"Substantiations and Male Complaint Substantiations\"\n",
    "# plot the random distribution of the total difference between female complaint\n",
    "# substantiations and male complaint substantiations\n",
    "results.plot(kind = \"hist\", title = title, figsize = (10, 5))\n",
    "# print the results\n",
    "print(\"observed value: \" + str(observation))\n",
    "print(\"p-value: \" + str(p_value))\n",
    "print(\"reject null hypothesis: \" + str(reject_null))"
   ]
  },
  {
   "cell_type": "markdown",
   "metadata": {},
   "source": [
    "### Officer Ethnicity Prediction"
   ]
  },
  {
   "cell_type": "markdown",
   "metadata": {},
   "source": [
    "#### Baseline Model"
   ]
  },
  {
   "cell_type": "markdown",
   "metadata": {},
   "source": [
    "This section creates a new dataframe upon which predictions will be made. Some features were dropped due to their subjective irrelevance to officer ethnicity and also to avoid IDs so that the model does not match each target with their respective IDs."
   ]
  },
  {
   "cell_type": "code",
   "execution_count": 16,
   "metadata": {},
   "outputs": [
    {
     "data": {
      "text/html": [
       "<div>\n",
       "<style scoped>\n",
       "    .dataframe tbody tr th:only-of-type {\n",
       "        vertical-align: middle;\n",
       "    }\n",
       "\n",
       "    .dataframe tbody tr th {\n",
       "        vertical-align: top;\n",
       "    }\n",
       "\n",
       "    .dataframe thead th {\n",
       "        text-align: right;\n",
       "    }\n",
       "</style>\n",
       "<table border=\"1\" class=\"dataframe\">\n",
       "  <thead>\n",
       "    <tr style=\"text-align: right;\">\n",
       "      <th></th>\n",
       "      <th>first_name</th>\n",
       "      <th>last_name</th>\n",
       "      <th>command_now</th>\n",
       "      <th>shield_no</th>\n",
       "      <th>month_received</th>\n",
       "      <th>year_received</th>\n",
       "      <th>month_closed</th>\n",
       "      <th>year_closed</th>\n",
       "      <th>command_at_incident</th>\n",
       "      <th>rank_abbrev_incident</th>\n",
       "      <th>...</th>\n",
       "      <th>mos_gender</th>\n",
       "      <th>mos_age_incident</th>\n",
       "      <th>complainant_ethnicity</th>\n",
       "      <th>complainant_gender</th>\n",
       "      <th>complainant_age_incident</th>\n",
       "      <th>fado_type</th>\n",
       "      <th>allegation</th>\n",
       "      <th>precinct</th>\n",
       "      <th>contact_reason</th>\n",
       "      <th>substantiated</th>\n",
       "    </tr>\n",
       "  </thead>\n",
       "  <tbody>\n",
       "    <tr>\n",
       "      <th>0</th>\n",
       "      <td>Jonathan</td>\n",
       "      <td>Ruiz</td>\n",
       "      <td>078 PCT</td>\n",
       "      <td>8409</td>\n",
       "      <td>7</td>\n",
       "      <td>2019</td>\n",
       "      <td>5</td>\n",
       "      <td>2020</td>\n",
       "      <td>078 PCT</td>\n",
       "      <td>POM</td>\n",
       "      <td>...</td>\n",
       "      <td>M</td>\n",
       "      <td>32</td>\n",
       "      <td>Black</td>\n",
       "      <td>Female</td>\n",
       "      <td>38.0</td>\n",
       "      <td>Abuse of Authority</td>\n",
       "      <td>Failure to provide RTKA card</td>\n",
       "      <td>78.0</td>\n",
       "      <td>Report-domestic dispute</td>\n",
       "      <td>True</td>\n",
       "    </tr>\n",
       "    <tr>\n",
       "      <th>1</th>\n",
       "      <td>John</td>\n",
       "      <td>Sears</td>\n",
       "      <td>078 PCT</td>\n",
       "      <td>5952</td>\n",
       "      <td>11</td>\n",
       "      <td>2011</td>\n",
       "      <td>8</td>\n",
       "      <td>2012</td>\n",
       "      <td>PBBS</td>\n",
       "      <td>POM</td>\n",
       "      <td>...</td>\n",
       "      <td>M</td>\n",
       "      <td>24</td>\n",
       "      <td>Black</td>\n",
       "      <td>Male</td>\n",
       "      <td>26.0</td>\n",
       "      <td>Discourtesy</td>\n",
       "      <td>Action</td>\n",
       "      <td>67.0</td>\n",
       "      <td>Moving violation</td>\n",
       "      <td>True</td>\n",
       "    </tr>\n",
       "    <tr>\n",
       "      <th>2</th>\n",
       "      <td>John</td>\n",
       "      <td>Sears</td>\n",
       "      <td>078 PCT</td>\n",
       "      <td>5952</td>\n",
       "      <td>11</td>\n",
       "      <td>2011</td>\n",
       "      <td>8</td>\n",
       "      <td>2012</td>\n",
       "      <td>PBBS</td>\n",
       "      <td>POM</td>\n",
       "      <td>...</td>\n",
       "      <td>M</td>\n",
       "      <td>24</td>\n",
       "      <td>Black</td>\n",
       "      <td>Male</td>\n",
       "      <td>26.0</td>\n",
       "      <td>Offensive Language</td>\n",
       "      <td>Race</td>\n",
       "      <td>67.0</td>\n",
       "      <td>Moving violation</td>\n",
       "      <td>True</td>\n",
       "    </tr>\n",
       "    <tr>\n",
       "      <th>3</th>\n",
       "      <td>John</td>\n",
       "      <td>Sears</td>\n",
       "      <td>078 PCT</td>\n",
       "      <td>5952</td>\n",
       "      <td>7</td>\n",
       "      <td>2012</td>\n",
       "      <td>9</td>\n",
       "      <td>2013</td>\n",
       "      <td>PBBS</td>\n",
       "      <td>POM</td>\n",
       "      <td>...</td>\n",
       "      <td>M</td>\n",
       "      <td>25</td>\n",
       "      <td>Black</td>\n",
       "      <td>Male</td>\n",
       "      <td>45.0</td>\n",
       "      <td>Abuse of Authority</td>\n",
       "      <td>Question</td>\n",
       "      <td>67.0</td>\n",
       "      <td>PD suspected C/V of violation/crime - street</td>\n",
       "      <td>True</td>\n",
       "    </tr>\n",
       "    <tr>\n",
       "      <th>4</th>\n",
       "      <td>Noemi</td>\n",
       "      <td>Sierra</td>\n",
       "      <td>078 PCT</td>\n",
       "      <td>24058</td>\n",
       "      <td>8</td>\n",
       "      <td>2018</td>\n",
       "      <td>2</td>\n",
       "      <td>2019</td>\n",
       "      <td>078 PCT</td>\n",
       "      <td>POF</td>\n",
       "      <td>...</td>\n",
       "      <td>F</td>\n",
       "      <td>39</td>\n",
       "      <td>NaN</td>\n",
       "      <td>NaN</td>\n",
       "      <td>16.0</td>\n",
       "      <td>Force</td>\n",
       "      <td>Physical force</td>\n",
       "      <td>67.0</td>\n",
       "      <td>Report-dispute</td>\n",
       "      <td>True</td>\n",
       "    </tr>\n",
       "  </tbody>\n",
       "</table>\n",
       "<p>5 rows × 22 columns</p>\n",
       "</div>"
      ],
      "text/plain": [
       "  first_name last_name command_now  shield_no  month_received  year_received  \\\n",
       "0   Jonathan      Ruiz     078 PCT       8409               7           2019   \n",
       "1       John     Sears     078 PCT       5952              11           2011   \n",
       "2       John     Sears     078 PCT       5952              11           2011   \n",
       "3       John     Sears     078 PCT       5952               7           2012   \n",
       "4      Noemi    Sierra     078 PCT      24058               8           2018   \n",
       "\n",
       "   month_closed  year_closed command_at_incident rank_abbrev_incident  ...  \\\n",
       "0             5         2020             078 PCT                  POM  ...   \n",
       "1             8         2012                PBBS                  POM  ...   \n",
       "2             8         2012                PBBS                  POM  ...   \n",
       "3             9         2013                PBBS                  POM  ...   \n",
       "4             2         2019             078 PCT                  POF  ...   \n",
       "\n",
       "  mos_gender mos_age_incident complainant_ethnicity  complainant_gender  \\\n",
       "0          M               32                 Black              Female   \n",
       "1          M               24                 Black                Male   \n",
       "2          M               24                 Black                Male   \n",
       "3          M               25                 Black                Male   \n",
       "4          F               39                   NaN                 NaN   \n",
       "\n",
       "  complainant_age_incident           fado_type                    allegation  \\\n",
       "0                     38.0  Abuse of Authority  Failure to provide RTKA card   \n",
       "1                     26.0         Discourtesy                        Action   \n",
       "2                     26.0  Offensive Language                          Race   \n",
       "3                     45.0  Abuse of Authority                      Question   \n",
       "4                     16.0               Force                Physical force   \n",
       "\n",
       "  precinct                                contact_reason  substantiated  \n",
       "0     78.0                       Report-domestic dispute           True  \n",
       "1     67.0                              Moving violation           True  \n",
       "2     67.0                              Moving violation           True  \n",
       "3     67.0  PD suspected C/V of violation/crime - street           True  \n",
       "4     67.0                                Report-dispute           True  \n",
       "\n",
       "[5 rows x 22 columns]"
      ]
     },
     "execution_count": 16,
     "metadata": {},
     "output_type": "execute_result"
    }
   ],
   "source": [
    "pred_data = data.copy()\n",
    "\n",
    "# specify certain columns to drop\n",
    "to_drop = [\n",
    "    \"unique_mos_id\",\n",
    "    \"complaint_id\",\n",
    "    \"board_disposition\",\n",
    "    \"rank_now\",\n",
    "    \"rank_incident\",\n",
    "    \"outcome_description\"\n",
    "]\n",
    "# drop these columns from the data\n",
    "pred_data = pred_data.drop(to_drop, axis = 1)\n",
    "# preview the dataframe\n",
    "pred_data.head()"
   ]
  },
  {
   "cell_type": "markdown",
   "metadata": {},
   "source": [
    "This section splits the data into features and target, categorizing each feature as a categorical, binary (technically categorical), or quantitative variable."
   ]
  },
  {
   "cell_type": "code",
   "execution_count": 17,
   "metadata": {},
   "outputs": [
    {
     "data": {
      "text/plain": [
       "True"
      ]
     },
     "execution_count": 17,
     "metadata": {},
     "output_type": "execute_result"
    }
   ],
   "source": [
    "# enumerate the target feature\n",
    "target = \"mos_ethnicity\"\n",
    "# the predictor features are the rest of the features\n",
    "predictors = pred_data.drop(target, axis = 1).columns.tolist()\n",
    "\n",
    "# split the data into predictors and target features\n",
    "X = pred_data[predictors]\n",
    "y = pred_data[target]\n",
    "\n",
    "# create empty lists to categorize features for separate processing\n",
    "categoricals = []\n",
    "booleans = []\n",
    "quantitatives = []\n",
    "\n",
    "# iterate through each feature\n",
    "for column in X.columns:\n",
    "    # if the column data is str\n",
    "    if X[column].dtype == 'O':\n",
    "        # categorize the feature as categorical\n",
    "        categoricals.append(column)\n",
    "    # if the column data is boolean\n",
    "    elif X[column].dtype == \"bool\":\n",
    "        # categorize the feature as categorical (binary)\n",
    "        booleans.append(column)\n",
    "    # else the column data type must be int or float\n",
    "    else:\n",
    "        # categorize the feature as quantitative\n",
    "        quantitatives.append(column)\n",
    "\n",
    "# verify that all predictor features have been categorized\n",
    "len(categoricals) + len(booleans) + len(quantitatives) == len(X.columns)"
   ]
  },
  {
   "cell_type": "markdown",
   "metadata": {},
   "source": [
    "This section makes use of Sci-Kit Learn's machine learning modules to create a pipeline through which input data can be fed for feature engineering followed by decision tree classification."
   ]
  },
  {
   "cell_type": "code",
   "execution_count": 18,
   "metadata": {},
   "outputs": [],
   "source": [
    "from sklearn.preprocessing import OneHotEncoder\n",
    "from sklearn.preprocessing import FunctionTransformer\n",
    "from sklearn.preprocessing import StandardScaler\n",
    "from sklearn.compose import ColumnTransformer\n",
    "from sklearn.pipeline import Pipeline\n",
    "from sklearn.tree import DecisionTreeClassifier\n",
    "from sklearn.model_selection import train_test_split\n",
    "\n",
    "def impute_quant(X):\n",
    "    \"\"\"\n",
    "    Function which fills in -100 for NaNs.\n",
    "    \n",
    "    Parameters\n",
    "    ----------\n",
    "    X : Pandas DataFrame\n",
    "        data frame with quantitative features to impute missing values for\n",
    "        \n",
    "        \n",
    "    Returns\n",
    "    -------\n",
    "    Pandas DataFrame\n",
    "        data frame with all missing entries replaced with -100\n",
    "        \n",
    "    \"\"\"\n",
    "    return X.fillna(-100)\n",
    "\n",
    "# create a one hot encoder for categorical features\n",
    "ohe = OneHotEncoder(handle_unknown = \"ignore\")\n",
    "# create a function transformer that keeps a feature column as is\n",
    "keep = FunctionTransformer(lambda x:x)\n",
    "# create a function transformer to impute missing values for quantitative features\n",
    "fill_nans = FunctionTransformer(impute_quant)\n",
    "# create a standard scaler for quantitative features\n",
    "std_scaler = StandardScaler()\n",
    "\n",
    "# create a separate pipeline to process quantitative features\n",
    "quant_pipeline = Pipeline([\n",
    "    (\"impute missing values\", fill_nans),\n",
    "    (\"standard scaling\", std_scaler)\n",
    "])\n",
    "\n",
    "# column transformer to perform different feature engineering procedures on different features\n",
    "ct = ColumnTransformer([\n",
    "    (\"one hot encoding\", ohe, categoricals),\n",
    "    (\"keep boolean features as is\", keep, booleans),\n",
    "    (\"quantitative feature processing\", quant_pipeline, quantitatives)\n",
    "])\n",
    "\n",
    "# create a decision tree classifier with seed 0 for reproducibility\n",
    "classifier = DecisionTreeClassifier(random_state = 0)\n",
    "\n",
    "# create the pipeline for the model\n",
    "pipeline = Pipeline([\n",
    "    (\"preprocessing\", ct),\n",
    "    (\"classification\", classifier)\n",
    "])"
   ]
  },
  {
   "cell_type": "code",
   "execution_count": 19,
   "metadata": {},
   "outputs": [],
   "source": [
    "# split the data into training and test sets with seed 0 for reproducibility\n",
    "X_train, X_test, y_train, y_test = train_test_split(X, y, random_state = 0)"
   ]
  },
  {
   "cell_type": "code",
   "execution_count": 20,
   "metadata": {},
   "outputs": [
    {
     "data": {
      "text/html": [
       "<style>#sk-container-id-1 {color: black;background-color: white;}#sk-container-id-1 pre{padding: 0;}#sk-container-id-1 div.sk-toggleable {background-color: white;}#sk-container-id-1 label.sk-toggleable__label {cursor: pointer;display: block;width: 100%;margin-bottom: 0;padding: 0.3em;box-sizing: border-box;text-align: center;}#sk-container-id-1 label.sk-toggleable__label-arrow:before {content: \"▸\";float: left;margin-right: 0.25em;color: #696969;}#sk-container-id-1 label.sk-toggleable__label-arrow:hover:before {color: black;}#sk-container-id-1 div.sk-estimator:hover label.sk-toggleable__label-arrow:before {color: black;}#sk-container-id-1 div.sk-toggleable__content {max-height: 0;max-width: 0;overflow: hidden;text-align: left;background-color: #f0f8ff;}#sk-container-id-1 div.sk-toggleable__content pre {margin: 0.2em;color: black;border-radius: 0.25em;background-color: #f0f8ff;}#sk-container-id-1 input.sk-toggleable__control:checked~div.sk-toggleable__content {max-height: 200px;max-width: 100%;overflow: auto;}#sk-container-id-1 input.sk-toggleable__control:checked~label.sk-toggleable__label-arrow:before {content: \"▾\";}#sk-container-id-1 div.sk-estimator input.sk-toggleable__control:checked~label.sk-toggleable__label {background-color: #d4ebff;}#sk-container-id-1 div.sk-label input.sk-toggleable__control:checked~label.sk-toggleable__label {background-color: #d4ebff;}#sk-container-id-1 input.sk-hidden--visually {border: 0;clip: rect(1px 1px 1px 1px);clip: rect(1px, 1px, 1px, 1px);height: 1px;margin: -1px;overflow: hidden;padding: 0;position: absolute;width: 1px;}#sk-container-id-1 div.sk-estimator {font-family: monospace;background-color: #f0f8ff;border: 1px dotted black;border-radius: 0.25em;box-sizing: border-box;margin-bottom: 0.5em;}#sk-container-id-1 div.sk-estimator:hover {background-color: #d4ebff;}#sk-container-id-1 div.sk-parallel-item::after {content: \"\";width: 100%;border-bottom: 1px solid gray;flex-grow: 1;}#sk-container-id-1 div.sk-label:hover label.sk-toggleable__label {background-color: #d4ebff;}#sk-container-id-1 div.sk-serial::before {content: \"\";position: absolute;border-left: 1px solid gray;box-sizing: border-box;top: 0;bottom: 0;left: 50%;z-index: 0;}#sk-container-id-1 div.sk-serial {display: flex;flex-direction: column;align-items: center;background-color: white;padding-right: 0.2em;padding-left: 0.2em;position: relative;}#sk-container-id-1 div.sk-item {position: relative;z-index: 1;}#sk-container-id-1 div.sk-parallel {display: flex;align-items: stretch;justify-content: center;background-color: white;position: relative;}#sk-container-id-1 div.sk-item::before, #sk-container-id-1 div.sk-parallel-item::before {content: \"\";position: absolute;border-left: 1px solid gray;box-sizing: border-box;top: 0;bottom: 0;left: 50%;z-index: -1;}#sk-container-id-1 div.sk-parallel-item {display: flex;flex-direction: column;z-index: 1;position: relative;background-color: white;}#sk-container-id-1 div.sk-parallel-item:first-child::after {align-self: flex-end;width: 50%;}#sk-container-id-1 div.sk-parallel-item:last-child::after {align-self: flex-start;width: 50%;}#sk-container-id-1 div.sk-parallel-item:only-child::after {width: 0;}#sk-container-id-1 div.sk-dashed-wrapped {border: 1px dashed gray;margin: 0 0.4em 0.5em 0.4em;box-sizing: border-box;padding-bottom: 0.4em;background-color: white;}#sk-container-id-1 div.sk-label label {font-family: monospace;font-weight: bold;display: inline-block;line-height: 1.2em;}#sk-container-id-1 div.sk-label-container {text-align: center;}#sk-container-id-1 div.sk-container {/* jupyter's `normalize.less` sets `[hidden] { display: none; }` but bootstrap.min.css set `[hidden] { display: none !important; }` so we also need the `!important` here to be able to override the default hidden behavior on the sphinx rendered scikit-learn.org. See: https://github.com/scikit-learn/scikit-learn/issues/21755 */display: inline-block !important;position: relative;}#sk-container-id-1 div.sk-text-repr-fallback {display: none;}</style><div id=\"sk-container-id-1\" class=\"sk-top-container\"><div class=\"sk-text-repr-fallback\"><pre>Pipeline(steps=[(&#x27;preprocessing&#x27;,\n",
       "                 ColumnTransformer(transformers=[(&#x27;one hot encoding&#x27;,\n",
       "                                                  OneHotEncoder(handle_unknown=&#x27;ignore&#x27;),\n",
       "                                                  [&#x27;first_name&#x27;, &#x27;last_name&#x27;,\n",
       "                                                   &#x27;command_now&#x27;,\n",
       "                                                   &#x27;command_at_incident&#x27;,\n",
       "                                                   &#x27;rank_abbrev_incident&#x27;,\n",
       "                                                   &#x27;rank_abbrev_now&#x27;,\n",
       "                                                   &#x27;mos_gender&#x27;,\n",
       "                                                   &#x27;complainant_ethnicity&#x27;,\n",
       "                                                   &#x27;complainant_gender&#x27;,\n",
       "                                                   &#x27;fado_type&#x27;, &#x27;allegation&#x27;,\n",
       "                                                   &#x27;contact_reason&#x27;]),\n",
       "                                                 (&#x27;keep boolean features as...\n",
       "                                                  Pipeline(steps=[(&#x27;impute &#x27;\n",
       "                                                                   &#x27;missing &#x27;\n",
       "                                                                   &#x27;values&#x27;,\n",
       "                                                                   FunctionTransformer(func=&lt;function impute_quant at 0x0000021EE61AF6D0&gt;)),\n",
       "                                                                  (&#x27;standard &#x27;\n",
       "                                                                   &#x27;scaling&#x27;,\n",
       "                                                                   StandardScaler())]),\n",
       "                                                  [&#x27;shield_no&#x27;,\n",
       "                                                   &#x27;month_received&#x27;,\n",
       "                                                   &#x27;year_received&#x27;,\n",
       "                                                   &#x27;month_closed&#x27;,\n",
       "                                                   &#x27;year_closed&#x27;,\n",
       "                                                   &#x27;mos_age_incident&#x27;,\n",
       "                                                   &#x27;complainant_age_incident&#x27;,\n",
       "                                                   &#x27;precinct&#x27;])])),\n",
       "                (&#x27;classification&#x27;, DecisionTreeClassifier(random_state=0))])</pre><b>In a Jupyter environment, please rerun this cell to show the HTML representation or trust the notebook. <br />On GitHub, the HTML representation is unable to render, please try loading this page with nbviewer.org.</b></div><div class=\"sk-container\" hidden><div class=\"sk-item sk-dashed-wrapped\"><div class=\"sk-label-container\"><div class=\"sk-label sk-toggleable\"><input class=\"sk-toggleable__control sk-hidden--visually\" id=\"sk-estimator-id-1\" type=\"checkbox\" ><label for=\"sk-estimator-id-1\" class=\"sk-toggleable__label sk-toggleable__label-arrow\">Pipeline</label><div class=\"sk-toggleable__content\"><pre>Pipeline(steps=[(&#x27;preprocessing&#x27;,\n",
       "                 ColumnTransformer(transformers=[(&#x27;one hot encoding&#x27;,\n",
       "                                                  OneHotEncoder(handle_unknown=&#x27;ignore&#x27;),\n",
       "                                                  [&#x27;first_name&#x27;, &#x27;last_name&#x27;,\n",
       "                                                   &#x27;command_now&#x27;,\n",
       "                                                   &#x27;command_at_incident&#x27;,\n",
       "                                                   &#x27;rank_abbrev_incident&#x27;,\n",
       "                                                   &#x27;rank_abbrev_now&#x27;,\n",
       "                                                   &#x27;mos_gender&#x27;,\n",
       "                                                   &#x27;complainant_ethnicity&#x27;,\n",
       "                                                   &#x27;complainant_gender&#x27;,\n",
       "                                                   &#x27;fado_type&#x27;, &#x27;allegation&#x27;,\n",
       "                                                   &#x27;contact_reason&#x27;]),\n",
       "                                                 (&#x27;keep boolean features as...\n",
       "                                                  Pipeline(steps=[(&#x27;impute &#x27;\n",
       "                                                                   &#x27;missing &#x27;\n",
       "                                                                   &#x27;values&#x27;,\n",
       "                                                                   FunctionTransformer(func=&lt;function impute_quant at 0x0000021EE61AF6D0&gt;)),\n",
       "                                                                  (&#x27;standard &#x27;\n",
       "                                                                   &#x27;scaling&#x27;,\n",
       "                                                                   StandardScaler())]),\n",
       "                                                  [&#x27;shield_no&#x27;,\n",
       "                                                   &#x27;month_received&#x27;,\n",
       "                                                   &#x27;year_received&#x27;,\n",
       "                                                   &#x27;month_closed&#x27;,\n",
       "                                                   &#x27;year_closed&#x27;,\n",
       "                                                   &#x27;mos_age_incident&#x27;,\n",
       "                                                   &#x27;complainant_age_incident&#x27;,\n",
       "                                                   &#x27;precinct&#x27;])])),\n",
       "                (&#x27;classification&#x27;, DecisionTreeClassifier(random_state=0))])</pre></div></div></div><div class=\"sk-serial\"><div class=\"sk-item sk-dashed-wrapped\"><div class=\"sk-label-container\"><div class=\"sk-label sk-toggleable\"><input class=\"sk-toggleable__control sk-hidden--visually\" id=\"sk-estimator-id-2\" type=\"checkbox\" ><label for=\"sk-estimator-id-2\" class=\"sk-toggleable__label sk-toggleable__label-arrow\">preprocessing: ColumnTransformer</label><div class=\"sk-toggleable__content\"><pre>ColumnTransformer(transformers=[(&#x27;one hot encoding&#x27;,\n",
       "                                 OneHotEncoder(handle_unknown=&#x27;ignore&#x27;),\n",
       "                                 [&#x27;first_name&#x27;, &#x27;last_name&#x27;, &#x27;command_now&#x27;,\n",
       "                                  &#x27;command_at_incident&#x27;, &#x27;rank_abbrev_incident&#x27;,\n",
       "                                  &#x27;rank_abbrev_now&#x27;, &#x27;mos_gender&#x27;,\n",
       "                                  &#x27;complainant_ethnicity&#x27;, &#x27;complainant_gender&#x27;,\n",
       "                                  &#x27;fado_type&#x27;, &#x27;allegation&#x27;,\n",
       "                                  &#x27;contact_reason&#x27;]),\n",
       "                                (&#x27;keep boolean features as is&#x27;,\n",
       "                                 FunctionTransformer(func=&lt;fun...021EE62EA200&gt;),\n",
       "                                 [&#x27;substantiated&#x27;]),\n",
       "                                (&#x27;quantitative feature processing&#x27;,\n",
       "                                 Pipeline(steps=[(&#x27;impute missing values&#x27;,\n",
       "                                                  FunctionTransformer(func=&lt;function impute_quant at 0x0000021EE61AF6D0&gt;)),\n",
       "                                                 (&#x27;standard scaling&#x27;,\n",
       "                                                  StandardScaler())]),\n",
       "                                 [&#x27;shield_no&#x27;, &#x27;month_received&#x27;,\n",
       "                                  &#x27;year_received&#x27;, &#x27;month_closed&#x27;,\n",
       "                                  &#x27;year_closed&#x27;, &#x27;mos_age_incident&#x27;,\n",
       "                                  &#x27;complainant_age_incident&#x27;, &#x27;precinct&#x27;])])</pre></div></div></div><div class=\"sk-parallel\"><div class=\"sk-parallel-item\"><div class=\"sk-item\"><div class=\"sk-label-container\"><div class=\"sk-label sk-toggleable\"><input class=\"sk-toggleable__control sk-hidden--visually\" id=\"sk-estimator-id-3\" type=\"checkbox\" ><label for=\"sk-estimator-id-3\" class=\"sk-toggleable__label sk-toggleable__label-arrow\">one hot encoding</label><div class=\"sk-toggleable__content\"><pre>[&#x27;first_name&#x27;, &#x27;last_name&#x27;, &#x27;command_now&#x27;, &#x27;command_at_incident&#x27;, &#x27;rank_abbrev_incident&#x27;, &#x27;rank_abbrev_now&#x27;, &#x27;mos_gender&#x27;, &#x27;complainant_ethnicity&#x27;, &#x27;complainant_gender&#x27;, &#x27;fado_type&#x27;, &#x27;allegation&#x27;, &#x27;contact_reason&#x27;]</pre></div></div></div><div class=\"sk-serial\"><div class=\"sk-item\"><div class=\"sk-estimator sk-toggleable\"><input class=\"sk-toggleable__control sk-hidden--visually\" id=\"sk-estimator-id-4\" type=\"checkbox\" ><label for=\"sk-estimator-id-4\" class=\"sk-toggleable__label sk-toggleable__label-arrow\">OneHotEncoder</label><div class=\"sk-toggleable__content\"><pre>OneHotEncoder(handle_unknown=&#x27;ignore&#x27;)</pre></div></div></div></div></div></div><div class=\"sk-parallel-item\"><div class=\"sk-item\"><div class=\"sk-label-container\"><div class=\"sk-label sk-toggleable\"><input class=\"sk-toggleable__control sk-hidden--visually\" id=\"sk-estimator-id-5\" type=\"checkbox\" ><label for=\"sk-estimator-id-5\" class=\"sk-toggleable__label sk-toggleable__label-arrow\">keep boolean features as is</label><div class=\"sk-toggleable__content\"><pre>[&#x27;substantiated&#x27;]</pre></div></div></div><div class=\"sk-serial\"><div class=\"sk-item\"><div class=\"sk-estimator sk-toggleable\"><input class=\"sk-toggleable__control sk-hidden--visually\" id=\"sk-estimator-id-6\" type=\"checkbox\" ><label for=\"sk-estimator-id-6\" class=\"sk-toggleable__label sk-toggleable__label-arrow\">FunctionTransformer</label><div class=\"sk-toggleable__content\"><pre>FunctionTransformer(func=&lt;function &lt;lambda&gt; at 0x0000021EE62EA200&gt;)</pre></div></div></div></div></div></div><div class=\"sk-parallel-item\"><div class=\"sk-item\"><div class=\"sk-label-container\"><div class=\"sk-label sk-toggleable\"><input class=\"sk-toggleable__control sk-hidden--visually\" id=\"sk-estimator-id-7\" type=\"checkbox\" ><label for=\"sk-estimator-id-7\" class=\"sk-toggleable__label sk-toggleable__label-arrow\">quantitative feature processing</label><div class=\"sk-toggleable__content\"><pre>[&#x27;shield_no&#x27;, &#x27;month_received&#x27;, &#x27;year_received&#x27;, &#x27;month_closed&#x27;, &#x27;year_closed&#x27;, &#x27;mos_age_incident&#x27;, &#x27;complainant_age_incident&#x27;, &#x27;precinct&#x27;]</pre></div></div></div><div class=\"sk-serial\"><div class=\"sk-item\"><div class=\"sk-serial\"><div class=\"sk-item\"><div class=\"sk-estimator sk-toggleable\"><input class=\"sk-toggleable__control sk-hidden--visually\" id=\"sk-estimator-id-8\" type=\"checkbox\" ><label for=\"sk-estimator-id-8\" class=\"sk-toggleable__label sk-toggleable__label-arrow\">FunctionTransformer</label><div class=\"sk-toggleable__content\"><pre>FunctionTransformer(func=&lt;function impute_quant at 0x0000021EE61AF6D0&gt;)</pre></div></div></div><div class=\"sk-item\"><div class=\"sk-estimator sk-toggleable\"><input class=\"sk-toggleable__control sk-hidden--visually\" id=\"sk-estimator-id-9\" type=\"checkbox\" ><label for=\"sk-estimator-id-9\" class=\"sk-toggleable__label sk-toggleable__label-arrow\">StandardScaler</label><div class=\"sk-toggleable__content\"><pre>StandardScaler()</pre></div></div></div></div></div></div></div></div></div></div><div class=\"sk-item\"><div class=\"sk-estimator sk-toggleable\"><input class=\"sk-toggleable__control sk-hidden--visually\" id=\"sk-estimator-id-10\" type=\"checkbox\" ><label for=\"sk-estimator-id-10\" class=\"sk-toggleable__label sk-toggleable__label-arrow\">DecisionTreeClassifier</label><div class=\"sk-toggleable__content\"><pre>DecisionTreeClassifier(random_state=0)</pre></div></div></div></div></div></div></div>"
      ],
      "text/plain": [
       "Pipeline(steps=[('preprocessing',\n",
       "                 ColumnTransformer(transformers=[('one hot encoding',\n",
       "                                                  OneHotEncoder(handle_unknown='ignore'),\n",
       "                                                  ['first_name', 'last_name',\n",
       "                                                   'command_now',\n",
       "                                                   'command_at_incident',\n",
       "                                                   'rank_abbrev_incident',\n",
       "                                                   'rank_abbrev_now',\n",
       "                                                   'mos_gender',\n",
       "                                                   'complainant_ethnicity',\n",
       "                                                   'complainant_gender',\n",
       "                                                   'fado_type', 'allegation',\n",
       "                                                   'contact_reason']),\n",
       "                                                 ('keep boolean features as...\n",
       "                                                  Pipeline(steps=[('impute '\n",
       "                                                                   'missing '\n",
       "                                                                   'values',\n",
       "                                                                   FunctionTransformer(func=<function impute_quant at 0x0000021EE61AF6D0>)),\n",
       "                                                                  ('standard '\n",
       "                                                                   'scaling',\n",
       "                                                                   StandardScaler())]),\n",
       "                                                  ['shield_no',\n",
       "                                                   'month_received',\n",
       "                                                   'year_received',\n",
       "                                                   'month_closed',\n",
       "                                                   'year_closed',\n",
       "                                                   'mos_age_incident',\n",
       "                                                   'complainant_age_incident',\n",
       "                                                   'precinct'])])),\n",
       "                ('classification', DecisionTreeClassifier(random_state=0))])"
      ]
     },
     "execution_count": 20,
     "metadata": {},
     "output_type": "execute_result"
    }
   ],
   "source": [
    "# fit the pipeline to the training set\n",
    "pipeline.fit(X_train, y_train)"
   ]
  },
  {
   "cell_type": "code",
   "execution_count": 21,
   "metadata": {},
   "outputs": [
    {
     "data": {
      "text/plain": [
       "1.0"
      ]
     },
     "execution_count": 21,
     "metadata": {},
     "output_type": "execute_result"
    }
   ],
   "source": [
    "# fetch the accuracy score for the training set\n",
    "pipeline.score(X_train, y_train)"
   ]
  },
  {
   "cell_type": "code",
   "execution_count": 22,
   "metadata": {},
   "outputs": [
    {
     "data": {
      "text/plain": [
       "0.9647482014388489"
      ]
     },
     "execution_count": 22,
     "metadata": {},
     "output_type": "execute_result"
    }
   ],
   "source": [
    "# fetch the accuracy score for the test set\n",
    "pipeline.score(X_test, y_test)"
   ]
  },
  {
   "cell_type": "markdown",
   "metadata": {},
   "source": [
    "#### Final Model"
   ]
  },
  {
   "cell_type": "markdown",
   "metadata": {},
   "source": [
    "Create a final model with a few new features for (hopefully) better predictivity and set optimal parameters according to a grid search CV test (not shown in the notebook)."
   ]
  },
  {
   "cell_type": "code",
   "execution_count": 23,
   "metadata": {},
   "outputs": [
    {
     "data": {
      "text/plain": [
       "True"
      ]
     },
     "execution_count": 23,
     "metadata": {},
     "output_type": "execute_result"
    }
   ],
   "source": [
    "# enumerate the target feature\n",
    "target = \"mos_ethnicity\"\n",
    "# the predictor features are the rest of the features\n",
    "predictors = pred_data.drop(target, axis = 1).columns.tolist()\n",
    "\n",
    "# split the data into predictors and target features\n",
    "X = pred_data[predictors]\n",
    "y = pred_data[target]\n",
    "\n",
    "# create empty lists to categorize features for separate processing\n",
    "categoricals = []\n",
    "booleans = []\n",
    "ages = []\n",
    "years = []\n",
    "quantitatives = []\n",
    "\n",
    "# iterate through each feature\n",
    "for column in X.columns:\n",
    "    # if the column data type is str\n",
    "    if X[column].dtype == 'O':\n",
    "        # categorize the feature as categorical\n",
    "        categoricals.append(column)\n",
    "    # if the column data is boolean\n",
    "    elif X[column].dtype == \"bool\":\n",
    "        # categorize the feature as categorical (binary)\n",
    "        booleans.append(column)\n",
    "    # if \"age\" is in the feature name\n",
    "    elif \"age\" in column:\n",
    "        # sort the feature into a separate list for age features\n",
    "        ages.append(column)\n",
    "    # if \"year\" is in the feature name\n",
    "    elif \"year\" in column:\n",
    "        # sort the feature into a separate list for year features\n",
    "        years.append(column)\n",
    "    # else the column data type must be int or float\n",
    "    else:\n",
    "        # categorize the feature as quantitative\n",
    "        quantitatives.append(column)\n",
    "\n",
    "# verify that all predictor features have been categorized\n",
    "len(categoricals) + len(booleans) + len(ages) + len(years) + len(quantitatives) == len(X.columns)"
   ]
  },
  {
   "cell_type": "code",
   "execution_count": 24,
   "metadata": {},
   "outputs": [],
   "source": [
    "from sklearn.preprocessing import Binarizer\n",
    "\n",
    "def age_to_cat(X):\n",
    "    \"\"\"\n",
    "    Function to turn quantitative age features into categorical features categorized\n",
    "    by \"Young\", \"Old\", and missing.\n",
    "    \n",
    "    Parameters\n",
    "    ----------\n",
    "    X : Pandas DataFrame\n",
    "        data frame with quantitative age features to binarily convert into \"Young\" and\n",
    "        \"Old\" with\n",
    "        \n",
    "        \n",
    "    Returns\n",
    "    -------\n",
    "    X : Pandas DataFrame\n",
    "        modified data frame with age values encoded as \"Young\" or \"Old\"\n",
    "        \n",
    "    \"\"\"\n",
    "    # replace \"Young\" ages with 0\n",
    "    X = X.mask(X < 40, 0)\n",
    "    # replace \"Old\" ages with 1\n",
    "    X = X.mask(X >= 40, 1)\n",
    "    # replace the binary encodings with string representation\n",
    "    X = X.replace({0: \"Young\", 1: \"Old\"})\n",
    "    # return the modified data frame\n",
    "    return X\n",
    "\n",
    "# set a threshold for a binarizer\n",
    "year_threshold = 1993\n",
    "# create a binarizer with the year threshold\n",
    "binarize_year = Binarizer(threshold = year_threshold)\n",
    "# create a function transformer to turn age features into binary categories\n",
    "categorizer = FunctionTransformer(age_to_cat)\n",
    "\n",
    "# create a separate pipeline to process age features\n",
    "age_pipeline = Pipeline([\n",
    "    (\"categorize\", categorizer),\n",
    "    (\"one hot encoding\", ohe)\n",
    "])\n",
    "\n",
    "# column transformer to perform different feature engineering procedures on different features\n",
    "ct = ColumnTransformer([\n",
    "    (\"one hot encoding\", ohe, categoricals),\n",
    "    (\"keep boolean features as is\", keep, booleans),\n",
    "    (\"age preprocessing\", age_pipeline, ages),\n",
    "    (\"binarizing\", binarize_year, years),\n",
    "    (\"quantitative feature processing\", quant_pipeline, quantitatives)\n",
    "])\n",
    "\n",
    "# create a decision tree classifier with the optimal parameters from a grid search CV test and with seed 0 for reproducibility\n",
    "classifier = DecisionTreeClassifier(\n",
    "    max_depth = None, \n",
    "    min_samples_leaf = 2, \n",
    "    min_samples_split = 5,\n",
    "    random_state = 0\n",
    ")\n",
    "\n",
    "# create a pipeline for the model\n",
    "pipeline = Pipeline([\n",
    "    (\"preprocessing\", ct),\n",
    "    (\"classification\", classifier)\n",
    "])"
   ]
  },
  {
   "cell_type": "code",
   "execution_count": 25,
   "metadata": {},
   "outputs": [
    {
     "data": {
      "text/html": [
       "<style>#sk-container-id-2 {color: black;background-color: white;}#sk-container-id-2 pre{padding: 0;}#sk-container-id-2 div.sk-toggleable {background-color: white;}#sk-container-id-2 label.sk-toggleable__label {cursor: pointer;display: block;width: 100%;margin-bottom: 0;padding: 0.3em;box-sizing: border-box;text-align: center;}#sk-container-id-2 label.sk-toggleable__label-arrow:before {content: \"▸\";float: left;margin-right: 0.25em;color: #696969;}#sk-container-id-2 label.sk-toggleable__label-arrow:hover:before {color: black;}#sk-container-id-2 div.sk-estimator:hover label.sk-toggleable__label-arrow:before {color: black;}#sk-container-id-2 div.sk-toggleable__content {max-height: 0;max-width: 0;overflow: hidden;text-align: left;background-color: #f0f8ff;}#sk-container-id-2 div.sk-toggleable__content pre {margin: 0.2em;color: black;border-radius: 0.25em;background-color: #f0f8ff;}#sk-container-id-2 input.sk-toggleable__control:checked~div.sk-toggleable__content {max-height: 200px;max-width: 100%;overflow: auto;}#sk-container-id-2 input.sk-toggleable__control:checked~label.sk-toggleable__label-arrow:before {content: \"▾\";}#sk-container-id-2 div.sk-estimator input.sk-toggleable__control:checked~label.sk-toggleable__label {background-color: #d4ebff;}#sk-container-id-2 div.sk-label input.sk-toggleable__control:checked~label.sk-toggleable__label {background-color: #d4ebff;}#sk-container-id-2 input.sk-hidden--visually {border: 0;clip: rect(1px 1px 1px 1px);clip: rect(1px, 1px, 1px, 1px);height: 1px;margin: -1px;overflow: hidden;padding: 0;position: absolute;width: 1px;}#sk-container-id-2 div.sk-estimator {font-family: monospace;background-color: #f0f8ff;border: 1px dotted black;border-radius: 0.25em;box-sizing: border-box;margin-bottom: 0.5em;}#sk-container-id-2 div.sk-estimator:hover {background-color: #d4ebff;}#sk-container-id-2 div.sk-parallel-item::after {content: \"\";width: 100%;border-bottom: 1px solid gray;flex-grow: 1;}#sk-container-id-2 div.sk-label:hover label.sk-toggleable__label {background-color: #d4ebff;}#sk-container-id-2 div.sk-serial::before {content: \"\";position: absolute;border-left: 1px solid gray;box-sizing: border-box;top: 0;bottom: 0;left: 50%;z-index: 0;}#sk-container-id-2 div.sk-serial {display: flex;flex-direction: column;align-items: center;background-color: white;padding-right: 0.2em;padding-left: 0.2em;position: relative;}#sk-container-id-2 div.sk-item {position: relative;z-index: 1;}#sk-container-id-2 div.sk-parallel {display: flex;align-items: stretch;justify-content: center;background-color: white;position: relative;}#sk-container-id-2 div.sk-item::before, #sk-container-id-2 div.sk-parallel-item::before {content: \"\";position: absolute;border-left: 1px solid gray;box-sizing: border-box;top: 0;bottom: 0;left: 50%;z-index: -1;}#sk-container-id-2 div.sk-parallel-item {display: flex;flex-direction: column;z-index: 1;position: relative;background-color: white;}#sk-container-id-2 div.sk-parallel-item:first-child::after {align-self: flex-end;width: 50%;}#sk-container-id-2 div.sk-parallel-item:last-child::after {align-self: flex-start;width: 50%;}#sk-container-id-2 div.sk-parallel-item:only-child::after {width: 0;}#sk-container-id-2 div.sk-dashed-wrapped {border: 1px dashed gray;margin: 0 0.4em 0.5em 0.4em;box-sizing: border-box;padding-bottom: 0.4em;background-color: white;}#sk-container-id-2 div.sk-label label {font-family: monospace;font-weight: bold;display: inline-block;line-height: 1.2em;}#sk-container-id-2 div.sk-label-container {text-align: center;}#sk-container-id-2 div.sk-container {/* jupyter's `normalize.less` sets `[hidden] { display: none; }` but bootstrap.min.css set `[hidden] { display: none !important; }` so we also need the `!important` here to be able to override the default hidden behavior on the sphinx rendered scikit-learn.org. See: https://github.com/scikit-learn/scikit-learn/issues/21755 */display: inline-block !important;position: relative;}#sk-container-id-2 div.sk-text-repr-fallback {display: none;}</style><div id=\"sk-container-id-2\" class=\"sk-top-container\"><div class=\"sk-text-repr-fallback\"><pre>Pipeline(steps=[(&#x27;preprocessing&#x27;,\n",
       "                 ColumnTransformer(transformers=[(&#x27;one hot encoding&#x27;,\n",
       "                                                  OneHotEncoder(handle_unknown=&#x27;ignore&#x27;),\n",
       "                                                  [&#x27;first_name&#x27;, &#x27;last_name&#x27;,\n",
       "                                                   &#x27;command_now&#x27;,\n",
       "                                                   &#x27;command_at_incident&#x27;,\n",
       "                                                   &#x27;rank_abbrev_incident&#x27;,\n",
       "                                                   &#x27;rank_abbrev_now&#x27;,\n",
       "                                                   &#x27;mos_gender&#x27;,\n",
       "                                                   &#x27;complainant_ethnicity&#x27;,\n",
       "                                                   &#x27;complainant_gender&#x27;,\n",
       "                                                   &#x27;fado_type&#x27;, &#x27;allegation&#x27;,\n",
       "                                                   &#x27;contact_reason&#x27;]),\n",
       "                                                 (&#x27;keep boolean features as...\n",
       "                                                   &#x27;year_closed&#x27;]),\n",
       "                                                 (&#x27;quantitative feature &#x27;\n",
       "                                                  &#x27;processing&#x27;,\n",
       "                                                  Pipeline(steps=[(&#x27;impute &#x27;\n",
       "                                                                   &#x27;missing &#x27;\n",
       "                                                                   &#x27;values&#x27;,\n",
       "                                                                   FunctionTransformer(func=&lt;function impute_quant at 0x0000021EE61AF6D0&gt;)),\n",
       "                                                                  (&#x27;standard &#x27;\n",
       "                                                                   &#x27;scaling&#x27;,\n",
       "                                                                   StandardScaler())]),\n",
       "                                                  [&#x27;shield_no&#x27;,\n",
       "                                                   &#x27;month_received&#x27;,\n",
       "                                                   &#x27;month_closed&#x27;,\n",
       "                                                   &#x27;precinct&#x27;])])),\n",
       "                (&#x27;classification&#x27;,\n",
       "                 DecisionTreeClassifier(min_samples_leaf=2, min_samples_split=5,\n",
       "                                        random_state=0))])</pre><b>In a Jupyter environment, please rerun this cell to show the HTML representation or trust the notebook. <br />On GitHub, the HTML representation is unable to render, please try loading this page with nbviewer.org.</b></div><div class=\"sk-container\" hidden><div class=\"sk-item sk-dashed-wrapped\"><div class=\"sk-label-container\"><div class=\"sk-label sk-toggleable\"><input class=\"sk-toggleable__control sk-hidden--visually\" id=\"sk-estimator-id-11\" type=\"checkbox\" ><label for=\"sk-estimator-id-11\" class=\"sk-toggleable__label sk-toggleable__label-arrow\">Pipeline</label><div class=\"sk-toggleable__content\"><pre>Pipeline(steps=[(&#x27;preprocessing&#x27;,\n",
       "                 ColumnTransformer(transformers=[(&#x27;one hot encoding&#x27;,\n",
       "                                                  OneHotEncoder(handle_unknown=&#x27;ignore&#x27;),\n",
       "                                                  [&#x27;first_name&#x27;, &#x27;last_name&#x27;,\n",
       "                                                   &#x27;command_now&#x27;,\n",
       "                                                   &#x27;command_at_incident&#x27;,\n",
       "                                                   &#x27;rank_abbrev_incident&#x27;,\n",
       "                                                   &#x27;rank_abbrev_now&#x27;,\n",
       "                                                   &#x27;mos_gender&#x27;,\n",
       "                                                   &#x27;complainant_ethnicity&#x27;,\n",
       "                                                   &#x27;complainant_gender&#x27;,\n",
       "                                                   &#x27;fado_type&#x27;, &#x27;allegation&#x27;,\n",
       "                                                   &#x27;contact_reason&#x27;]),\n",
       "                                                 (&#x27;keep boolean features as...\n",
       "                                                   &#x27;year_closed&#x27;]),\n",
       "                                                 (&#x27;quantitative feature &#x27;\n",
       "                                                  &#x27;processing&#x27;,\n",
       "                                                  Pipeline(steps=[(&#x27;impute &#x27;\n",
       "                                                                   &#x27;missing &#x27;\n",
       "                                                                   &#x27;values&#x27;,\n",
       "                                                                   FunctionTransformer(func=&lt;function impute_quant at 0x0000021EE61AF6D0&gt;)),\n",
       "                                                                  (&#x27;standard &#x27;\n",
       "                                                                   &#x27;scaling&#x27;,\n",
       "                                                                   StandardScaler())]),\n",
       "                                                  [&#x27;shield_no&#x27;,\n",
       "                                                   &#x27;month_received&#x27;,\n",
       "                                                   &#x27;month_closed&#x27;,\n",
       "                                                   &#x27;precinct&#x27;])])),\n",
       "                (&#x27;classification&#x27;,\n",
       "                 DecisionTreeClassifier(min_samples_leaf=2, min_samples_split=5,\n",
       "                                        random_state=0))])</pre></div></div></div><div class=\"sk-serial\"><div class=\"sk-item sk-dashed-wrapped\"><div class=\"sk-label-container\"><div class=\"sk-label sk-toggleable\"><input class=\"sk-toggleable__control sk-hidden--visually\" id=\"sk-estimator-id-12\" type=\"checkbox\" ><label for=\"sk-estimator-id-12\" class=\"sk-toggleable__label sk-toggleable__label-arrow\">preprocessing: ColumnTransformer</label><div class=\"sk-toggleable__content\"><pre>ColumnTransformer(transformers=[(&#x27;one hot encoding&#x27;,\n",
       "                                 OneHotEncoder(handle_unknown=&#x27;ignore&#x27;),\n",
       "                                 [&#x27;first_name&#x27;, &#x27;last_name&#x27;, &#x27;command_now&#x27;,\n",
       "                                  &#x27;command_at_incident&#x27;, &#x27;rank_abbrev_incident&#x27;,\n",
       "                                  &#x27;rank_abbrev_now&#x27;, &#x27;mos_gender&#x27;,\n",
       "                                  &#x27;complainant_ethnicity&#x27;, &#x27;complainant_gender&#x27;,\n",
       "                                  &#x27;fado_type&#x27;, &#x27;allegation&#x27;,\n",
       "                                  &#x27;contact_reason&#x27;]),\n",
       "                                (&#x27;keep boolean features as is&#x27;,\n",
       "                                 FunctionTransformer(func=&lt;fun...\n",
       "                                 [&#x27;mos_age_incident&#x27;,\n",
       "                                  &#x27;complainant_age_incident&#x27;]),\n",
       "                                (&#x27;binarizing&#x27;, Binarizer(threshold=1993),\n",
       "                                 [&#x27;year_received&#x27;, &#x27;year_closed&#x27;]),\n",
       "                                (&#x27;quantitative feature processing&#x27;,\n",
       "                                 Pipeline(steps=[(&#x27;impute missing values&#x27;,\n",
       "                                                  FunctionTransformer(func=&lt;function impute_quant at 0x0000021EE61AF6D0&gt;)),\n",
       "                                                 (&#x27;standard scaling&#x27;,\n",
       "                                                  StandardScaler())]),\n",
       "                                 [&#x27;shield_no&#x27;, &#x27;month_received&#x27;, &#x27;month_closed&#x27;,\n",
       "                                  &#x27;precinct&#x27;])])</pre></div></div></div><div class=\"sk-parallel\"><div class=\"sk-parallel-item\"><div class=\"sk-item\"><div class=\"sk-label-container\"><div class=\"sk-label sk-toggleable\"><input class=\"sk-toggleable__control sk-hidden--visually\" id=\"sk-estimator-id-13\" type=\"checkbox\" ><label for=\"sk-estimator-id-13\" class=\"sk-toggleable__label sk-toggleable__label-arrow\">one hot encoding</label><div class=\"sk-toggleable__content\"><pre>[&#x27;first_name&#x27;, &#x27;last_name&#x27;, &#x27;command_now&#x27;, &#x27;command_at_incident&#x27;, &#x27;rank_abbrev_incident&#x27;, &#x27;rank_abbrev_now&#x27;, &#x27;mos_gender&#x27;, &#x27;complainant_ethnicity&#x27;, &#x27;complainant_gender&#x27;, &#x27;fado_type&#x27;, &#x27;allegation&#x27;, &#x27;contact_reason&#x27;]</pre></div></div></div><div class=\"sk-serial\"><div class=\"sk-item\"><div class=\"sk-estimator sk-toggleable\"><input class=\"sk-toggleable__control sk-hidden--visually\" id=\"sk-estimator-id-14\" type=\"checkbox\" ><label for=\"sk-estimator-id-14\" class=\"sk-toggleable__label sk-toggleable__label-arrow\">OneHotEncoder</label><div class=\"sk-toggleable__content\"><pre>OneHotEncoder(handle_unknown=&#x27;ignore&#x27;)</pre></div></div></div></div></div></div><div class=\"sk-parallel-item\"><div class=\"sk-item\"><div class=\"sk-label-container\"><div class=\"sk-label sk-toggleable\"><input class=\"sk-toggleable__control sk-hidden--visually\" id=\"sk-estimator-id-15\" type=\"checkbox\" ><label for=\"sk-estimator-id-15\" class=\"sk-toggleable__label sk-toggleable__label-arrow\">keep boolean features as is</label><div class=\"sk-toggleable__content\"><pre>[&#x27;substantiated&#x27;]</pre></div></div></div><div class=\"sk-serial\"><div class=\"sk-item\"><div class=\"sk-estimator sk-toggleable\"><input class=\"sk-toggleable__control sk-hidden--visually\" id=\"sk-estimator-id-16\" type=\"checkbox\" ><label for=\"sk-estimator-id-16\" class=\"sk-toggleable__label sk-toggleable__label-arrow\">FunctionTransformer</label><div class=\"sk-toggleable__content\"><pre>FunctionTransformer(func=&lt;function &lt;lambda&gt; at 0x0000021EE62EA200&gt;)</pre></div></div></div></div></div></div><div class=\"sk-parallel-item\"><div class=\"sk-item\"><div class=\"sk-label-container\"><div class=\"sk-label sk-toggleable\"><input class=\"sk-toggleable__control sk-hidden--visually\" id=\"sk-estimator-id-17\" type=\"checkbox\" ><label for=\"sk-estimator-id-17\" class=\"sk-toggleable__label sk-toggleable__label-arrow\">age preprocessing</label><div class=\"sk-toggleable__content\"><pre>[&#x27;mos_age_incident&#x27;, &#x27;complainant_age_incident&#x27;]</pre></div></div></div><div class=\"sk-serial\"><div class=\"sk-item\"><div class=\"sk-serial\"><div class=\"sk-item\"><div class=\"sk-estimator sk-toggleable\"><input class=\"sk-toggleable__control sk-hidden--visually\" id=\"sk-estimator-id-18\" type=\"checkbox\" ><label for=\"sk-estimator-id-18\" class=\"sk-toggleable__label sk-toggleable__label-arrow\">FunctionTransformer</label><div class=\"sk-toggleable__content\"><pre>FunctionTransformer(func=&lt;function age_to_cat at 0x0000021EEB9BCAF0&gt;)</pre></div></div></div><div class=\"sk-item\"><div class=\"sk-estimator sk-toggleable\"><input class=\"sk-toggleable__control sk-hidden--visually\" id=\"sk-estimator-id-19\" type=\"checkbox\" ><label for=\"sk-estimator-id-19\" class=\"sk-toggleable__label sk-toggleable__label-arrow\">OneHotEncoder</label><div class=\"sk-toggleable__content\"><pre>OneHotEncoder(handle_unknown=&#x27;ignore&#x27;)</pre></div></div></div></div></div></div></div></div><div class=\"sk-parallel-item\"><div class=\"sk-item\"><div class=\"sk-label-container\"><div class=\"sk-label sk-toggleable\"><input class=\"sk-toggleable__control sk-hidden--visually\" id=\"sk-estimator-id-20\" type=\"checkbox\" ><label for=\"sk-estimator-id-20\" class=\"sk-toggleable__label sk-toggleable__label-arrow\">binarizing</label><div class=\"sk-toggleable__content\"><pre>[&#x27;year_received&#x27;, &#x27;year_closed&#x27;]</pre></div></div></div><div class=\"sk-serial\"><div class=\"sk-item\"><div class=\"sk-estimator sk-toggleable\"><input class=\"sk-toggleable__control sk-hidden--visually\" id=\"sk-estimator-id-21\" type=\"checkbox\" ><label for=\"sk-estimator-id-21\" class=\"sk-toggleable__label sk-toggleable__label-arrow\">Binarizer</label><div class=\"sk-toggleable__content\"><pre>Binarizer(threshold=1993)</pre></div></div></div></div></div></div><div class=\"sk-parallel-item\"><div class=\"sk-item\"><div class=\"sk-label-container\"><div class=\"sk-label sk-toggleable\"><input class=\"sk-toggleable__control sk-hidden--visually\" id=\"sk-estimator-id-22\" type=\"checkbox\" ><label for=\"sk-estimator-id-22\" class=\"sk-toggleable__label sk-toggleable__label-arrow\">quantitative feature processing</label><div class=\"sk-toggleable__content\"><pre>[&#x27;shield_no&#x27;, &#x27;month_received&#x27;, &#x27;month_closed&#x27;, &#x27;precinct&#x27;]</pre></div></div></div><div class=\"sk-serial\"><div class=\"sk-item\"><div class=\"sk-serial\"><div class=\"sk-item\"><div class=\"sk-estimator sk-toggleable\"><input class=\"sk-toggleable__control sk-hidden--visually\" id=\"sk-estimator-id-23\" type=\"checkbox\" ><label for=\"sk-estimator-id-23\" class=\"sk-toggleable__label sk-toggleable__label-arrow\">FunctionTransformer</label><div class=\"sk-toggleable__content\"><pre>FunctionTransformer(func=&lt;function impute_quant at 0x0000021EE61AF6D0&gt;)</pre></div></div></div><div class=\"sk-item\"><div class=\"sk-estimator sk-toggleable\"><input class=\"sk-toggleable__control sk-hidden--visually\" id=\"sk-estimator-id-24\" type=\"checkbox\" ><label for=\"sk-estimator-id-24\" class=\"sk-toggleable__label sk-toggleable__label-arrow\">StandardScaler</label><div class=\"sk-toggleable__content\"><pre>StandardScaler()</pre></div></div></div></div></div></div></div></div></div></div><div class=\"sk-item\"><div class=\"sk-estimator sk-toggleable\"><input class=\"sk-toggleable__control sk-hidden--visually\" id=\"sk-estimator-id-25\" type=\"checkbox\" ><label for=\"sk-estimator-id-25\" class=\"sk-toggleable__label sk-toggleable__label-arrow\">DecisionTreeClassifier</label><div class=\"sk-toggleable__content\"><pre>DecisionTreeClassifier(min_samples_leaf=2, min_samples_split=5, random_state=0)</pre></div></div></div></div></div></div></div>"
      ],
      "text/plain": [
       "Pipeline(steps=[('preprocessing',\n",
       "                 ColumnTransformer(transformers=[('one hot encoding',\n",
       "                                                  OneHotEncoder(handle_unknown='ignore'),\n",
       "                                                  ['first_name', 'last_name',\n",
       "                                                   'command_now',\n",
       "                                                   'command_at_incident',\n",
       "                                                   'rank_abbrev_incident',\n",
       "                                                   'rank_abbrev_now',\n",
       "                                                   'mos_gender',\n",
       "                                                   'complainant_ethnicity',\n",
       "                                                   'complainant_gender',\n",
       "                                                   'fado_type', 'allegation',\n",
       "                                                   'contact_reason']),\n",
       "                                                 ('keep boolean features as...\n",
       "                                                   'year_closed']),\n",
       "                                                 ('quantitative feature '\n",
       "                                                  'processing',\n",
       "                                                  Pipeline(steps=[('impute '\n",
       "                                                                   'missing '\n",
       "                                                                   'values',\n",
       "                                                                   FunctionTransformer(func=<function impute_quant at 0x0000021EE61AF6D0>)),\n",
       "                                                                  ('standard '\n",
       "                                                                   'scaling',\n",
       "                                                                   StandardScaler())]),\n",
       "                                                  ['shield_no',\n",
       "                                                   'month_received',\n",
       "                                                   'month_closed',\n",
       "                                                   'precinct'])])),\n",
       "                ('classification',\n",
       "                 DecisionTreeClassifier(min_samples_leaf=2, min_samples_split=5,\n",
       "                                        random_state=0))])"
      ]
     },
     "execution_count": 25,
     "metadata": {},
     "output_type": "execute_result"
    }
   ],
   "source": [
    "# fit the pipeline to the training set\n",
    "pipeline.fit(X_train, y_train)"
   ]
  },
  {
   "cell_type": "code",
   "execution_count": 26,
   "metadata": {},
   "outputs": [
    {
     "data": {
      "text/plain": [
       "0.9862499000719482"
      ]
     },
     "execution_count": 26,
     "metadata": {},
     "output_type": "execute_result"
    }
   ],
   "source": [
    "# fetch the accuracy score for the training set\n",
    "pipeline.score(X_train, y_train)"
   ]
  },
  {
   "cell_type": "code",
   "execution_count": 27,
   "metadata": {},
   "outputs": [
    {
     "data": {
      "text/plain": [
       "0.9471223021582734"
      ]
     },
     "execution_count": 27,
     "metadata": {},
     "output_type": "execute_result"
    }
   ],
   "source": [
    "# fetch the accuracy score for the test set\n",
    "pipeline.score(X_test, y_test)"
   ]
  },
  {
   "cell_type": "markdown",
   "metadata": {},
   "source": [
    "#### Fairness Evaluation"
   ]
  },
  {
   "cell_type": "code",
   "execution_count": 28,
   "metadata": {},
   "outputs": [
    {
     "data": {
      "text/html": [
       "<div>\n",
       "<style scoped>\n",
       "    .dataframe tbody tr th:only-of-type {\n",
       "        vertical-align: middle;\n",
       "    }\n",
       "\n",
       "    .dataframe tbody tr th {\n",
       "        vertical-align: top;\n",
       "    }\n",
       "\n",
       "    .dataframe thead th {\n",
       "        text-align: right;\n",
       "    }\n",
       "</style>\n",
       "<table border=\"1\" class=\"dataframe\">\n",
       "  <thead>\n",
       "    <tr style=\"text-align: right;\">\n",
       "      <th></th>\n",
       "      <th>complainant_White</th>\n",
       "      <th>prediction</th>\n",
       "      <th>tag</th>\n",
       "      <th>correct</th>\n",
       "    </tr>\n",
       "  </thead>\n",
       "  <tbody>\n",
       "    <tr>\n",
       "      <th>21484</th>\n",
       "      <td>False</td>\n",
       "      <td>White</td>\n",
       "      <td>White</td>\n",
       "      <td>True</td>\n",
       "    </tr>\n",
       "    <tr>\n",
       "      <th>6161</th>\n",
       "      <td>False</td>\n",
       "      <td>White</td>\n",
       "      <td>White</td>\n",
       "      <td>True</td>\n",
       "    </tr>\n",
       "    <tr>\n",
       "      <th>21216</th>\n",
       "      <td>False</td>\n",
       "      <td>White</td>\n",
       "      <td>White</td>\n",
       "      <td>True</td>\n",
       "    </tr>\n",
       "    <tr>\n",
       "      <th>10872</th>\n",
       "      <td>False</td>\n",
       "      <td>Hispanic</td>\n",
       "      <td>Hispanic</td>\n",
       "      <td>True</td>\n",
       "    </tr>\n",
       "    <tr>\n",
       "      <th>30012</th>\n",
       "      <td>False</td>\n",
       "      <td>White</td>\n",
       "      <td>White</td>\n",
       "      <td>True</td>\n",
       "    </tr>\n",
       "  </tbody>\n",
       "</table>\n",
       "</div>"
      ],
      "text/plain": [
       "       complainant_White prediction       tag  correct\n",
       "21484              False      White     White     True\n",
       "6161               False      White     White     True\n",
       "21216              False      White     White     True\n",
       "10872              False   Hispanic  Hispanic     True\n",
       "30012              False      White     White     True"
      ]
     },
     "execution_count": 28,
     "metadata": {},
     "output_type": "execute_result"
    }
   ],
   "source": [
    "# create a copy of the training set predictors to investigate\n",
    "results = X_test.copy()\n",
    "# add a column determining whether or not the complainant is White\n",
    "results[\"complainant_White\"] = (results[\"complainant_ethnicity\"] == \"White\")\n",
    "# select only the new column\n",
    "results = results[[\"complainant_White\"]]\n",
    "# fetch the predictions for the test set\n",
    "predictions = pipeline.predict(X_test)\n",
    "# add the predictions as a column\n",
    "results[\"prediction\"] = predictions\n",
    "# add the true values as a column\n",
    "results[\"tag\"] = y_test\n",
    "# add a column determining whether or not the prediction was correct\n",
    "results[\"correct\"] = (results[\"prediction\"] == results[\"tag\"])\n",
    "# preview the data\n",
    "results.head()"
   ]
  },
  {
   "cell_type": "code",
   "execution_count": 29,
   "metadata": {},
   "outputs": [],
   "source": [
    "def pivot_results(results):\n",
    "    \"\"\"\n",
    "    Function to create a pivot table representing the conditional distribution of\n",
    "    prediction accuracy dependent on whether or not a complainant is White.\n",
    "    \n",
    "    Parameters\n",
    "    ----------\n",
    "    results : Pandas DataFrame\n",
    "        data frame with a column for whether or not the complainant is White and another\n",
    "        for if the prediction was correct\n",
    "        \n",
    "    Returns\n",
    "    -------\n",
    "    pivot : Pandas DataFrame\n",
    "        pivot table with whether or not the complainant is White as the indices and the\n",
    "        accuracy as the columns; values are accuracy scores in proportions\n",
    "    \"\"\"\n",
    "    # pivot the data\n",
    "    pivot = results.pivot_table(index = \"complainant_White\", columns = \"correct\", aggfunc = \"size\")\n",
    "    # convert each row to proportions\n",
    "    pivot = pivot.transpose().apply(lambda x:x/x.sum()).transpose()\n",
    "    # return the pivot table\n",
    "    return pivot\n",
    "\n",
    "def find_diff(pivot):\n",
    "    \"\"\"\n",
    "    Function to find the difference between the accuracy scores for White complainants\n",
    "    and non-White complainants.\n",
    "    \n",
    "    Parameters\n",
    "    ----------\n",
    "    pivot : Pandas DataFrame\n",
    "        pivot table of accuracy dependent on whether or not the complainant is White\n",
    "        \n",
    "    \n",
    "    Returns\n",
    "    -------\n",
    "    diff : float\n",
    "        accuracy score for White complainants subtracted by accuracy for non-White\n",
    "        complainants\n",
    "        \n",
    "    \"\"\"\n",
    "    # fetch the column representing accuracy\n",
    "    correct = pivot[True]\n",
    "    # fetch the accuracy for White complainants\n",
    "    White = correct[True]\n",
    "    # fetch the accuracy for non-White complainants\n",
    "    not_White = correct[False]\n",
    "    # compute the difference\n",
    "    diff = White - not_White\n",
    "    # return the difference\n",
    "    return diff\n",
    "\n",
    "def randomize_results(results, seed):\n",
    "    \"\"\"\n",
    "    Function to shuffle the column for whether or not the complainant is White.\n",
    "    \n",
    "    Parameters\n",
    "    ----------\n",
    "    results : Pandas DataFrame\n",
    "        data frame with a \"complainant_White\" column to randomly shuffle\n",
    "    seed : int\n",
    "        seed to obtain a particular random outcome when randomizing results\n",
    "    \n",
    "    Returns\n",
    "    -------\n",
    "    simulation : Pandas DataFrame\n",
    "        data frame with a shuffled \"complainant_White\" column\n",
    "    \"\"\"\n",
    "    # create a copy of the input data frame so as not to modify it\n",
    "    simulation = results.copy()\n",
    "    # reset the index of the copy so that the new values match up perfectly\n",
    "    simulation = simulation.reset_index()\n",
    "    # randomly shuffle the \"complainant_White\" column\n",
    "    simulation[\"complainant_White\"] = simulation.sample(frac = 1, random_state = seed).reset_index()[\"complainant_White\"]\n",
    "    # return the data frame with shuffled \"complainant_White\" column\n",
    "    return simulation\n",
    "\n",
    "def simulate_null(results, seed = None):\n",
    "    \"\"\"\n",
    "    Function to simulate the null hypothesis and compute the test statistic for the\n",
    "    random simulation.\n",
    "    \n",
    "    Parameters\n",
    "    ----------\n",
    "    results : Pandas DataFrame\n",
    "        data frame with a \"complainant_White\" column and a \"correct\" column\n",
    "    seed : int\n",
    "        seed to obtain a particular random outcome when randomizing results\n",
    "        \n",
    "        \n",
    "    Returns\n",
    "    -------\n",
    "    statistic : float\n",
    "        accuracy score for White complainants subtracted by accuracy for non-White complainants\n",
    "    \"\"\"\n",
    "    # shuffle the \"complainant_White\" column\n",
    "    simulation = randomize_results(results, seed)\n",
    "    # create a pivot table of proportions with the random data\n",
    "    simulation_pivot = pivot_results(simulation)\n",
    "    # compute the difference\n",
    "    statistic = find_diff(simulation_pivot)\n",
    "    # return the test statistic\n",
    "    return statistic"
   ]
  },
  {
   "cell_type": "code",
   "execution_count": 30,
   "metadata": {},
   "outputs": [
    {
     "data": {
      "text/html": [
       "<div>\n",
       "<style scoped>\n",
       "    .dataframe tbody tr th:only-of-type {\n",
       "        vertical-align: middle;\n",
       "    }\n",
       "\n",
       "    .dataframe tbody tr th {\n",
       "        vertical-align: top;\n",
       "    }\n",
       "\n",
       "    .dataframe thead th {\n",
       "        text-align: right;\n",
       "    }\n",
       "</style>\n",
       "<table border=\"1\" class=\"dataframe\">\n",
       "  <thead>\n",
       "    <tr style=\"text-align: right;\">\n",
       "      <th>correct</th>\n",
       "      <th>False</th>\n",
       "      <th>True</th>\n",
       "    </tr>\n",
       "    <tr>\n",
       "      <th>complainant_White</th>\n",
       "      <th></th>\n",
       "      <th></th>\n",
       "    </tr>\n",
       "  </thead>\n",
       "  <tbody>\n",
       "    <tr>\n",
       "      <th>False</th>\n",
       "      <td>0.051550</td>\n",
       "      <td>0.948450</td>\n",
       "    </tr>\n",
       "    <tr>\n",
       "      <th>True</th>\n",
       "      <td>0.067432</td>\n",
       "      <td>0.932568</td>\n",
       "    </tr>\n",
       "  </tbody>\n",
       "</table>\n",
       "</div>"
      ],
      "text/plain": [
       "correct               False      True\n",
       "complainant_White                    \n",
       "False              0.051550  0.948450\n",
       "True               0.067432  0.932568"
      ]
     },
     "execution_count": 30,
     "metadata": {},
     "output_type": "execute_result"
    }
   ],
   "source": [
    "# create a pivot table of proportions with the observed data\n",
    "results_pivot = pivot_results(results)\n",
    "# view the pivot table\n",
    "results_pivot"
   ]
  },
  {
   "cell_type": "code",
   "execution_count": 31,
   "metadata": {},
   "outputs": [
    {
     "data": {
      "text/plain": [
       "-0.015881412479531787"
      ]
     },
     "execution_count": 31,
     "metadata": {},
     "output_type": "execute_result"
    }
   ],
   "source": [
    "# find the difference in prediction accuracy between White and non-White complainants\n",
    "observation = find_diff(results_pivot)\n",
    "# view the observed value\n",
    "observation"
   ]
  },
  {
   "cell_type": "code",
   "execution_count": 32,
   "metadata": {},
   "outputs": [
    {
     "name": "stdout",
     "output_type": "stream",
     "text": [
      "significance level: 0.01\n",
      "number of simulations: 1000\n",
      "observed value: -0.015881412479531787\n",
      "p-value: 0.972\n",
      "reject null hypothesis?: False\n"
     ]
    },
    {
     "data": {
      "image/png": "[encoded data removed]",
      "text/plain": [
       "<Figure size 432x288 with 1 Axes>"
      ]
     },
     "metadata": {
      "image/png": {
       "height": 263,
       "width": 595
      },
      "needs_background": "light"
     },
     "output_type": "display_data"
    }
   ],
   "source": [
    "# fix a significance level of 0.01\n",
    "significance = 0.01\n",
    "# declare the number of simulations to run\n",
    "num_simulations = 1_000\n",
    "# create an empty list to store test statistics in\n",
    "statistics = []\n",
    "# run the random simulations\n",
    "for i in range(num_simulations):\n",
    "    # obtain the random test statistic by simulating the null hypothesis\n",
    "    statistic = simulate_null(results, i)\n",
    "    # add the result to the list\n",
    "    statistics.append(statistic)\n",
    "# convert the list to a series for easy boolean masking\n",
    "series = pd.Series(statistics)\n",
    "\n",
    "# plot a histogram of the random distribution of test statistics\n",
    "series.plot(\n",
    "    kind = \"hist\",\n",
    "    title = \"Random Distribution of the Difference Between Accuracy\" +\n",
    "     \" for White and Non-White Complainants\",\n",
    "    xlabel = \"Difference\"\n",
    ")\n",
    "# plot a vertical line marking where the observed value falls in the distribution\n",
    "plt.axvline(x = observation, lw = 3, color = 'r')\n",
    "\n",
    "# find the p-value of the permutation test\n",
    "p_value = (series >= observation).mean()\n",
    "# create a boolean variable for if the p-value is less than the significance\n",
    "reject_null = p_value < significance\n",
    "\n",
    "# print the output\n",
    "print(\"significance level: \" + str(significance))\n",
    "print(\"number of simulations: \" + str(num_simulations))\n",
    "print(\"observed value: \" + str(observation))\n",
    "print(\"p-value: \" + str(p_value))\n",
    "print(\"reject null hypothesis?: \" + str(reject_null))"
   ]
  }
 ],
 "metadata": {
  "kernelspec": {
   "display_name": "Python 3 (ipykernel)",
   "language": "python",
   "name": "python3"
  },
  "language_info": {
   "codemirror_mode": {
    "name": "ipython",
    "version": 3
   },
   "file_extension": ".py",
   "mimetype": "text/x-python",
   "name": "python",
   "nbconvert_exporter": "python",
   "pygments_lexer": "ipython3",
   "version": "3.10.5"
  }
 },
 "nbformat": 4,
 "nbformat_minor": 4
}
